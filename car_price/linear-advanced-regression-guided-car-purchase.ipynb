{
 "cells": [
  {
   "cell_type": "markdown",
   "metadata": {
    "papermill": {
     "duration": 0.046997,
     "end_time": "2020-11-04T09:52:18.671993",
     "exception": false,
     "start_time": "2020-11-04T09:52:18.624996",
     "status": "completed"
    },
    "tags": []
   },
   "source": [
    "# Vehicle-Price-PredictorOnCarDekho\n",
    "\n",
    "## Introduction\n",
    "**The objective of this kernel is to use an example of vehicles and help reach a good r2 score using basic regression model upon various Data.viz techniques.**\n",
    "\n",
    "**Hence,for instance, we get data from the car website CarDekho.com, filled with information on a wide variety of cars, including their selling price and present price. We realize that we can use this data to make sure we get a good deal on a new car. In particular, we can figure out exactly how much one should pay for a specific type of car. \n",
    "Now Comes the Linear Regression to our rescue!**\n",
    "\n",
    "**Linear Regression is a method for discovering the relationship between two variables in the dataset, such as price of the car and the year it was made. Data Scientists rely on this method for solving a wide range of problems, especially when it comes to prediction.**\n",
    "\n",
    "1. I have used a simplified Linear Regression model with sufficient data analysis and feature engineering to reach the desired r2 score of [.831].\n",
    "2. Do keep monitoring this kernel for future versions,improvements and to check the implementation of some newer and advanced regression models !\n",
    "3. Do UpVote the Notebook if you find it helpful !\n",
    "\n",
    "## About the dataset\n",
    "**This dataset contains information about used cars listed on www.cardekho.com\n",
    "This data can be used for a lot of purposes such as price prediction to exemplify the use of linear regression in Machine Learning.\n",
    "The columns in the given dataset is as follows:**\n",
    "* Car_Name\n",
    "* Year\n",
    "* Selling_Price\n",
    "* Present_Price\n",
    "* Kms_Driven\n",
    "* Fuel_Type\n",
    "* Seller_Type\n",
    "* Transmission\n",
    "* Owner"
   ]
  },
  {
   "cell_type": "markdown",
   "metadata": {
    "papermill": {
     "duration": 0.0451,
     "end_time": "2020-11-04T09:52:18.762070",
     "exception": false,
     "start_time": "2020-11-04T09:52:18.716970",
     "status": "completed"
    },
    "tags": []
   },
   "source": [
    "## Imports\n",
    "\n",
    "\n",
    "1. Let's get our environment ready with the libraries we'll need and then import the relevant ones beforehand!\n",
    "2. Pandas is one of the most widely used python libraries in data science. It provides high-performance, easy to use structures and data analysis tools.\n",
    "3. Matplotlib is a plotting library for the Python programming language\n",
    "4. Seaborn is a Python data visualization library based on matplotlib. It provides a high-level interface for drawing attractive and informative statistical graphics."
   ]
  },
  {
   "cell_type": "code",
   "execution_count": 1,
   "metadata": {
    "_cell_guid": "b1076dfc-b9ad-4769-8c92-a6c4dae69d19",
    "_uuid": "8f2839f25d086af736a60e9eeb907d3b93b6e0e5",
    "execution": {
     "iopub.execute_input": "2020-11-04T09:52:18.865088Z",
     "iopub.status.busy": "2020-11-04T09:52:18.864358Z",
     "iopub.status.idle": "2020-11-04T09:52:19.617514Z",
     "shell.execute_reply": "2020-11-04T09:52:19.616851Z"
    },
    "papermill": {
     "duration": 0.809963,
     "end_time": "2020-11-04T09:52:19.617627",
     "exception": false,
     "start_time": "2020-11-04T09:52:18.807664",
     "status": "completed"
    },
    "tags": []
   },
   "outputs": [
    {
     "name": "stdout",
     "output_type": "stream",
     "text": [
      "/kaggle/input/vehicle-dataset-from-cardekho/car data.csv\n",
      "/kaggle/input/vehicle-dataset-from-cardekho/Car details v3.csv\n",
      "/kaggle/input/vehicle-dataset-from-cardekho/CAR DETAILS FROM CAR DEKHO.csv\n"
     ]
    }
   ],
   "source": [
    "# Supress Warnings\n",
    "import warnings\n",
    "warnings.filterwarnings('ignore')\n",
    "\n",
    "#core imports\n",
    "import numpy as np\n",
    "import pandas as pd\n",
    "import matplotlib.pyplot as plt\n",
    "import seaborn as sns\n",
    "%matplotlib inline\n",
    "\n",
    "import os\n",
    "for dirname, _, filenames in os.walk('/kaggle/input'):\n",
    "    for filename in filenames:\n",
    "        print(os.path.join(dirname, filename))\n"
   ]
  },
  {
   "cell_type": "markdown",
   "metadata": {
    "papermill": {
     "duration": 0.045769,
     "end_time": "2020-11-04T09:52:19.710734",
     "exception": false,
     "start_time": "2020-11-04T09:52:19.664965",
     "status": "completed"
    },
    "tags": []
   },
   "source": [
    "## Fetching the Data\n",
    "**Using Pandas to load the dataset into this notebook. Using pandas we can read our datafile (car data.csv) with the line below. Data-set loaded will be assigned to the variable vehicles.**"
   ]
  },
  {
   "cell_type": "code",
   "execution_count": 2,
   "metadata": {
    "_cell_guid": "79c7e3d0-c299-4dcb-8224-4455121ee9b0",
    "_uuid": "d629ff2d2480ee46fbb7e2d37f6b5fab8052498a",
    "execution": {
     "iopub.execute_input": "2020-11-04T09:52:19.807148Z",
     "iopub.status.busy": "2020-11-04T09:52:19.806158Z",
     "iopub.status.idle": "2020-11-04T09:52:19.814974Z",
     "shell.execute_reply": "2020-11-04T09:52:19.814457Z"
    },
    "papermill": {
     "duration": 0.059879,
     "end_time": "2020-11-04T09:52:19.815079",
     "exception": false,
     "start_time": "2020-11-04T09:52:19.755200",
     "status": "completed"
    },
    "tags": []
   },
   "outputs": [],
   "source": [
    "#load dataset and assign it to a variable\n",
    "vehicles=pd.read_csv(\"../input/vehicle-dataset-from-cardekho/car data.csv\")"
   ]
  },
  {
   "cell_type": "markdown",
   "metadata": {
    "papermill": {
     "duration": 0.046174,
     "end_time": "2020-11-04T09:52:19.907326",
     "exception": false,
     "start_time": "2020-11-04T09:52:19.861152",
     "status": "completed"
    },
    "tags": []
   },
   "source": [
    "## Check out the Data\n",
    "**We will run some exploratory analysis on our cardekho dataset now that it is loaded in the vehicles variable.We would check for the shape of the dataset, any missing or null values and will try to find out the correlation amongst the dataset features.\n",
    "Let's Begin!**"
   ]
  },
  {
   "cell_type": "code",
   "execution_count": 3,
   "metadata": {
    "execution": {
     "iopub.execute_input": "2020-11-04T09:52:20.039829Z",
     "iopub.status.busy": "2020-11-04T09:52:20.038726Z",
     "iopub.status.idle": "2020-11-04T09:52:20.050799Z",
     "shell.execute_reply": "2020-11-04T09:52:20.051421Z"
    },
    "papermill": {
     "duration": 0.097076,
     "end_time": "2020-11-04T09:52:20.051560",
     "exception": false,
     "start_time": "2020-11-04T09:52:19.954484",
     "status": "completed"
    },
    "tags": []
   },
   "outputs": [
    {
     "data": {
      "text/html": [
       "<div>\n",
       "<style scoped>\n",
       "    .dataframe tbody tr th:only-of-type {\n",
       "        vertical-align: middle;\n",
       "    }\n",
       "\n",
       "    .dataframe tbody tr th {\n",
       "        vertical-align: top;\n",
       "    }\n",
       "\n",
       "    .dataframe thead th {\n",
       "        text-align: right;\n",
       "    }\n",
       "</style>\n",
       "<table border=\"1\" class=\"dataframe\">\n",
       "  <thead>\n",
       "    <tr style=\"text-align: right;\">\n",
       "      <th></th>\n",
       "      <th>Car_Name</th>\n",
       "      <th>Year</th>\n",
       "      <th>Selling_Price</th>\n",
       "      <th>Present_Price</th>\n",
       "      <th>Kms_Driven</th>\n",
       "      <th>Fuel_Type</th>\n",
       "      <th>Seller_Type</th>\n",
       "      <th>Transmission</th>\n",
       "      <th>Owner</th>\n",
       "    </tr>\n",
       "  </thead>\n",
       "  <tbody>\n",
       "    <tr>\n",
       "      <th>0</th>\n",
       "      <td>ritz</td>\n",
       "      <td>2014</td>\n",
       "      <td>3.35</td>\n",
       "      <td>5.59</td>\n",
       "      <td>27000</td>\n",
       "      <td>Petrol</td>\n",
       "      <td>Dealer</td>\n",
       "      <td>Manual</td>\n",
       "      <td>0</td>\n",
       "    </tr>\n",
       "    <tr>\n",
       "      <th>1</th>\n",
       "      <td>sx4</td>\n",
       "      <td>2013</td>\n",
       "      <td>4.75</td>\n",
       "      <td>9.54</td>\n",
       "      <td>43000</td>\n",
       "      <td>Diesel</td>\n",
       "      <td>Dealer</td>\n",
       "      <td>Manual</td>\n",
       "      <td>0</td>\n",
       "    </tr>\n",
       "    <tr>\n",
       "      <th>2</th>\n",
       "      <td>ciaz</td>\n",
       "      <td>2017</td>\n",
       "      <td>7.25</td>\n",
       "      <td>9.85</td>\n",
       "      <td>6900</td>\n",
       "      <td>Petrol</td>\n",
       "      <td>Dealer</td>\n",
       "      <td>Manual</td>\n",
       "      <td>0</td>\n",
       "    </tr>\n",
       "    <tr>\n",
       "      <th>3</th>\n",
       "      <td>wagon r</td>\n",
       "      <td>2011</td>\n",
       "      <td>2.85</td>\n",
       "      <td>4.15</td>\n",
       "      <td>5200</td>\n",
       "      <td>Petrol</td>\n",
       "      <td>Dealer</td>\n",
       "      <td>Manual</td>\n",
       "      <td>0</td>\n",
       "    </tr>\n",
       "    <tr>\n",
       "      <th>4</th>\n",
       "      <td>swift</td>\n",
       "      <td>2014</td>\n",
       "      <td>4.60</td>\n",
       "      <td>6.87</td>\n",
       "      <td>42450</td>\n",
       "      <td>Diesel</td>\n",
       "      <td>Dealer</td>\n",
       "      <td>Manual</td>\n",
       "      <td>0</td>\n",
       "    </tr>\n",
       "  </tbody>\n",
       "</table>\n",
       "</div>"
      ],
      "text/plain": [
       "  Car_Name  Year  Selling_Price  Present_Price  Kms_Driven Fuel_Type  \\\n",
       "0     ritz  2014           3.35           5.59       27000    Petrol   \n",
       "1      sx4  2013           4.75           9.54       43000    Diesel   \n",
       "2     ciaz  2017           7.25           9.85        6900    Petrol   \n",
       "3  wagon r  2011           2.85           4.15        5200    Petrol   \n",
       "4    swift  2014           4.60           6.87       42450    Diesel   \n",
       "\n",
       "  Seller_Type Transmission  Owner  \n",
       "0      Dealer       Manual      0  \n",
       "1      Dealer       Manual      0  \n",
       "2      Dealer       Manual      0  \n",
       "3      Dealer       Manual      0  \n",
       "4      Dealer       Manual      0  "
      ]
     },
     "execution_count": 3,
     "metadata": {},
     "output_type": "execute_result"
    }
   ],
   "source": [
    "#use the 'head' method to show the first five rows of the table as well as their names. \n",
    "vehicles.head() "
   ]
  },
  {
   "cell_type": "markdown",
   "metadata": {
    "papermill": {
     "duration": 0.047462,
     "end_time": "2020-11-04T09:52:20.152804",
     "exception": false,
     "start_time": "2020-11-04T09:52:20.105342",
     "status": "completed"
    },
    "tags": []
   },
   "source": [
    "**Looking at the above 5 rows of data we need to develop an understanding of every column to efficiently continue exploring the dataset further.\n",
    "We need to have a clear understanding of every feature defined in the data-set and what it is trying to convey!**"
   ]
  },
  {
   "cell_type": "code",
   "execution_count": 4,
   "metadata": {
    "execution": {
     "iopub.execute_input": "2020-11-04T09:52:20.266936Z",
     "iopub.status.busy": "2020-11-04T09:52:20.265889Z",
     "iopub.status.idle": "2020-11-04T09:52:20.269959Z",
     "shell.execute_reply": "2020-11-04T09:52:20.271046Z"
    },
    "papermill": {
     "duration": 0.070383,
     "end_time": "2020-11-04T09:52:20.271270",
     "exception": false,
     "start_time": "2020-11-04T09:52:20.200887",
     "status": "completed"
    },
    "tags": []
   },
   "outputs": [
    {
     "name": "stdout",
     "output_type": "stream",
     "text": [
      "<class 'pandas.core.frame.DataFrame'>\n",
      "RangeIndex: 301 entries, 0 to 300\n",
      "Data columns (total 9 columns):\n",
      " #   Column         Non-Null Count  Dtype  \n",
      "---  ------         --------------  -----  \n",
      " 0   Car_Name       301 non-null    object \n",
      " 1   Year           301 non-null    int64  \n",
      " 2   Selling_Price  301 non-null    float64\n",
      " 3   Present_Price  301 non-null    float64\n",
      " 4   Kms_Driven     301 non-null    int64  \n",
      " 5   Fuel_Type      301 non-null    object \n",
      " 6   Seller_Type    301 non-null    object \n",
      " 7   Transmission   301 non-null    object \n",
      " 8   Owner          301 non-null    int64  \n",
      "dtypes: float64(2), int64(3), object(4)\n",
      "memory usage: 21.3+ KB\n"
     ]
    }
   ],
   "source": [
    "vehicles.info()"
   ]
  },
  {
   "cell_type": "markdown",
   "metadata": {
    "papermill": {
     "duration": 0.047149,
     "end_time": "2020-11-04T09:52:20.374171",
     "exception": false,
     "start_time": "2020-11-04T09:52:20.327022",
     "status": "completed"
    },
    "tags": []
   },
   "source": [
    "**Above is a concise summary of our dataframe printing columns' data-type,index data-type and number of non-null values !**"
   ]
  },
  {
   "cell_type": "code",
   "execution_count": 5,
   "metadata": {
    "execution": {
     "iopub.execute_input": "2020-11-04T09:52:20.480759Z",
     "iopub.status.busy": "2020-11-04T09:52:20.479855Z",
     "iopub.status.idle": "2020-11-04T09:52:20.483885Z",
     "shell.execute_reply": "2020-11-04T09:52:20.483357Z"
    },
    "papermill": {
     "duration": 0.061233,
     "end_time": "2020-11-04T09:52:20.483985",
     "exception": false,
     "start_time": "2020-11-04T09:52:20.422752",
     "status": "completed"
    },
    "tags": []
   },
   "outputs": [
    {
     "data": {
      "text/plain": [
       "Car_Name         0\n",
       "Year             0\n",
       "Selling_Price    0\n",
       "Present_Price    0\n",
       "Kms_Driven       0\n",
       "Fuel_Type        0\n",
       "Seller_Type      0\n",
       "Transmission     0\n",
       "Owner            0\n",
       "dtype: int64"
      ]
     },
     "execution_count": 5,
     "metadata": {},
     "output_type": "execute_result"
    }
   ],
   "source": [
    "vehicles.isnull().sum()"
   ]
  },
  {
   "cell_type": "markdown",
   "metadata": {
    "papermill": {
     "duration": 0.048245,
     "end_time": "2020-11-04T09:52:20.580683",
     "exception": false,
     "start_time": "2020-11-04T09:52:20.532438",
     "status": "completed"
    },
    "tags": []
   },
   "source": [
    "**Looking at the result of the above query it seems clear we have no missing/null values in our dataset!**"
   ]
  },
  {
   "cell_type": "code",
   "execution_count": 6,
   "metadata": {
    "execution": {
     "iopub.execute_input": "2020-11-04T09:52:20.686613Z",
     "iopub.status.busy": "2020-11-04T09:52:20.685544Z",
     "iopub.status.idle": "2020-11-04T09:52:20.710188Z",
     "shell.execute_reply": "2020-11-04T09:52:20.710889Z"
    },
    "papermill": {
     "duration": 0.081584,
     "end_time": "2020-11-04T09:52:20.711031",
     "exception": false,
     "start_time": "2020-11-04T09:52:20.629447",
     "status": "completed"
    },
    "tags": []
   },
   "outputs": [
    {
     "data": {
      "text/html": [
       "<div>\n",
       "<style scoped>\n",
       "    .dataframe tbody tr th:only-of-type {\n",
       "        vertical-align: middle;\n",
       "    }\n",
       "\n",
       "    .dataframe tbody tr th {\n",
       "        vertical-align: top;\n",
       "    }\n",
       "\n",
       "    .dataframe thead th {\n",
       "        text-align: right;\n",
       "    }\n",
       "</style>\n",
       "<table border=\"1\" class=\"dataframe\">\n",
       "  <thead>\n",
       "    <tr style=\"text-align: right;\">\n",
       "      <th></th>\n",
       "      <th>Year</th>\n",
       "      <th>Selling_Price</th>\n",
       "      <th>Present_Price</th>\n",
       "      <th>Kms_Driven</th>\n",
       "      <th>Owner</th>\n",
       "    </tr>\n",
       "  </thead>\n",
       "  <tbody>\n",
       "    <tr>\n",
       "      <th>count</th>\n",
       "      <td>301.000000</td>\n",
       "      <td>301.000000</td>\n",
       "      <td>301.000000</td>\n",
       "      <td>301.000000</td>\n",
       "      <td>301.000000</td>\n",
       "    </tr>\n",
       "    <tr>\n",
       "      <th>mean</th>\n",
       "      <td>2013.627907</td>\n",
       "      <td>4.661296</td>\n",
       "      <td>7.628472</td>\n",
       "      <td>36947.205980</td>\n",
       "      <td>0.043189</td>\n",
       "    </tr>\n",
       "    <tr>\n",
       "      <th>std</th>\n",
       "      <td>2.891554</td>\n",
       "      <td>5.082812</td>\n",
       "      <td>8.644115</td>\n",
       "      <td>38886.883882</td>\n",
       "      <td>0.247915</td>\n",
       "    </tr>\n",
       "    <tr>\n",
       "      <th>min</th>\n",
       "      <td>2003.000000</td>\n",
       "      <td>0.100000</td>\n",
       "      <td>0.320000</td>\n",
       "      <td>500.000000</td>\n",
       "      <td>0.000000</td>\n",
       "    </tr>\n",
       "    <tr>\n",
       "      <th>25%</th>\n",
       "      <td>2012.000000</td>\n",
       "      <td>0.900000</td>\n",
       "      <td>1.200000</td>\n",
       "      <td>15000.000000</td>\n",
       "      <td>0.000000</td>\n",
       "    </tr>\n",
       "    <tr>\n",
       "      <th>50%</th>\n",
       "      <td>2014.000000</td>\n",
       "      <td>3.600000</td>\n",
       "      <td>6.400000</td>\n",
       "      <td>32000.000000</td>\n",
       "      <td>0.000000</td>\n",
       "    </tr>\n",
       "    <tr>\n",
       "      <th>75%</th>\n",
       "      <td>2016.000000</td>\n",
       "      <td>6.000000</td>\n",
       "      <td>9.900000</td>\n",
       "      <td>48767.000000</td>\n",
       "      <td>0.000000</td>\n",
       "    </tr>\n",
       "    <tr>\n",
       "      <th>max</th>\n",
       "      <td>2018.000000</td>\n",
       "      <td>35.000000</td>\n",
       "      <td>92.600000</td>\n",
       "      <td>500000.000000</td>\n",
       "      <td>3.000000</td>\n",
       "    </tr>\n",
       "  </tbody>\n",
       "</table>\n",
       "</div>"
      ],
      "text/plain": [
       "              Year  Selling_Price  Present_Price     Kms_Driven       Owner\n",
       "count   301.000000     301.000000     301.000000     301.000000  301.000000\n",
       "mean   2013.627907       4.661296       7.628472   36947.205980    0.043189\n",
       "std       2.891554       5.082812       8.644115   38886.883882    0.247915\n",
       "min    2003.000000       0.100000       0.320000     500.000000    0.000000\n",
       "25%    2012.000000       0.900000       1.200000   15000.000000    0.000000\n",
       "50%    2014.000000       3.600000       6.400000   32000.000000    0.000000\n",
       "75%    2016.000000       6.000000       9.900000   48767.000000    0.000000\n",
       "max    2018.000000      35.000000      92.600000  500000.000000    3.000000"
      ]
     },
     "execution_count": 6,
     "metadata": {},
     "output_type": "execute_result"
    }
   ],
   "source": [
    "vehicles.describe()"
   ]
  },
  {
   "cell_type": "markdown",
   "metadata": {
    "papermill": {
     "duration": 0.048883,
     "end_time": "2020-11-04T09:52:20.813063",
     "exception": false,
     "start_time": "2020-11-04T09:52:20.764180",
     "status": "completed"
    },
    "tags": []
   },
   "source": [
    "**We have a beautiful analysis of our numerical columns which gives us the count,mean,std and other such values to have a clear idea of the values in our dataset. Helps in scaling!**"
   ]
  },
  {
   "cell_type": "markdown",
   "metadata": {
    "papermill": {
     "duration": 0.048356,
     "end_time": "2020-11-04T09:52:20.909950",
     "exception": false,
     "start_time": "2020-11-04T09:52:20.861594",
     "status": "completed"
    },
    "tags": []
   },
   "source": [
    "## Exploratory Data Analysis(EDA)\n",
    "Let's create some simple plots to check out the data!"
   ]
  },
  {
   "cell_type": "markdown",
   "metadata": {
    "papermill": {
     "duration": 0.051288,
     "end_time": "2020-11-04T09:52:21.012613",
     "exception": false,
     "start_time": "2020-11-04T09:52:20.961325",
     "status": "completed"
    },
    "tags": []
   },
   "source": [
    "**Visualizing the categorical data :**\n",
    "## 1. Owner Type\n",
    "Let's examine the selling price based on the type of owner"
   ]
  },
  {
   "cell_type": "code",
   "execution_count": 7,
   "metadata": {
    "execution": {
     "iopub.execute_input": "2020-11-04T09:52:21.123471Z",
     "iopub.status.busy": "2020-11-04T09:52:21.122527Z",
     "iopub.status.idle": "2020-11-04T09:52:21.359615Z",
     "shell.execute_reply": "2020-11-04T09:52:21.360264Z"
    },
    "papermill": {
     "duration": 0.297063,
     "end_time": "2020-11-04T09:52:21.360423",
     "exception": false,
     "start_time": "2020-11-04T09:52:21.063360",
     "status": "completed"
    },
    "tags": []
   },
   "outputs": [
    {
     "data": {
      "text/plain": [
       "<matplotlib.axes._subplots.AxesSubplot at 0x7ff2a5232b50>"
      ]
     },
     "execution_count": 7,
     "metadata": {},
     "output_type": "execute_result"
    },
    {
     "data": {
      "image/png": "[encoded data removed]",
      "text/plain": [
       "<Figure size 432x288 with 1 Axes>"
      ]
     },
     "metadata": {
      "needs_background": "light"
     },
     "output_type": "display_data"
    }
   ],
   "source": [
    "sns.barplot(x='Owner',y='Selling_Price',data=vehicles,palette='spring')"
   ]
  },
  {
   "cell_type": "markdown",
   "metadata": {
    "papermill": {
     "duration": 0.058318,
     "end_time": "2020-11-04T09:52:21.479329",
     "exception": false,
     "start_time": "2020-11-04T09:52:21.421011",
     "status": "completed"
    },
    "tags": []
   },
   "source": [
    "**It seems that the vehicles belonging to owner 0 have the highest selling price**"
   ]
  },
  {
   "cell_type": "markdown",
   "metadata": {
    "papermill": {
     "duration": 0.052849,
     "end_time": "2020-11-04T09:52:21.586610",
     "exception": false,
     "start_time": "2020-11-04T09:52:21.533761",
     "status": "completed"
    },
    "tags": []
   },
   "source": [
    "## 2. Transmission Type\n",
    "Let's examine the selling price for manual and automatic vehicles! "
   ]
  },
  {
   "cell_type": "code",
   "execution_count": 8,
   "metadata": {
    "execution": {
     "iopub.execute_input": "2020-11-04T09:52:21.698553Z",
     "iopub.status.busy": "2020-11-04T09:52:21.696466Z",
     "iopub.status.idle": "2020-11-04T09:52:21.893512Z",
     "shell.execute_reply": "2020-11-04T09:52:21.894058Z"
    },
    "papermill": {
     "duration": 0.256018,
     "end_time": "2020-11-04T09:52:21.894207",
     "exception": false,
     "start_time": "2020-11-04T09:52:21.638189",
     "status": "completed"
    },
    "tags": []
   },
   "outputs": [
    {
     "data": {
      "text/plain": [
       "<matplotlib.axes._subplots.AxesSubplot at 0x7ff2a5049e50>"
      ]
     },
     "execution_count": 8,
     "metadata": {},
     "output_type": "execute_result"
    },
    {
     "data": {
      "image/png": "[encoded data removed]",
      "text/plain": [
       "<Figure size 432x288 with 1 Axes>"
      ]
     },
     "metadata": {
      "needs_background": "light"
     },
     "output_type": "display_data"
    }
   ],
   "source": [
    "sns.barplot(x='Transmission',y='Selling_Price',data=vehicles,palette='spring')"
   ]
  },
  {
   "cell_type": "markdown",
   "metadata": {
    "papermill": {
     "duration": 0.051828,
     "end_time": "2020-11-04T09:52:22.002312",
     "exception": false,
     "start_time": "2020-11-04T09:52:21.950484",
     "status": "completed"
    },
    "tags": []
   },
   "source": [
    "**We can see tha automatic vehicles are found to have a large resale value in the market compared to manual transmission.**"
   ]
  },
  {
   "cell_type": "markdown",
   "metadata": {
    "papermill": {
     "duration": 0.052949,
     "end_time": "2020-11-04T09:52:22.107793",
     "exception": false,
     "start_time": "2020-11-04T09:52:22.054844",
     "status": "completed"
    },
    "tags": []
   },
   "source": [
    "## 3. Fuel Type\n",
    "Let's examine the selling price based on different types of engine fuel!"
   ]
  },
  {
   "cell_type": "code",
   "execution_count": 9,
   "metadata": {
    "execution": {
     "iopub.execute_input": "2020-11-04T09:52:22.226424Z",
     "iopub.status.busy": "2020-11-04T09:52:22.225403Z",
     "iopub.status.idle": "2020-11-04T09:52:22.484758Z",
     "shell.execute_reply": "2020-11-04T09:52:22.485722Z"
    },
    "papermill": {
     "duration": 0.323922,
     "end_time": "2020-11-04T09:52:22.485943",
     "exception": false,
     "start_time": "2020-11-04T09:52:22.162021",
     "status": "completed"
    },
    "tags": []
   },
   "outputs": [
    {
     "data": {
      "text/plain": [
       "<matplotlib.axes._subplots.AxesSubplot at 0x7ff2a4fcfc90>"
      ]
     },
     "execution_count": 9,
     "metadata": {},
     "output_type": "execute_result"
    },
    {
     "data": {
      "image/png": "[encoded data removed]",
      "text/plain": [
       "<Figure size 432x288 with 1 Axes>"
      ]
     },
     "metadata": {
      "needs_background": "light"
     },
     "output_type": "display_data"
    }
   ],
   "source": [
    "sns.barplot(x='Fuel_Type',y='Selling_Price',data=vehicles,palette='spring')"
   ]
  },
  {
   "cell_type": "markdown",
   "metadata": {
    "papermill": {
     "duration": 0.085823,
     "end_time": "2020-11-04T09:52:22.677885",
     "exception": false,
     "start_time": "2020-11-04T09:52:22.592062",
     "status": "completed"
    },
    "tags": []
   },
   "source": [
    "**Diesel Engine Vehicles are found to have the highest selling price amongst Petrol and CNG engine vehicles**"
   ]
  },
  {
   "cell_type": "markdown",
   "metadata": {
    "papermill": {
     "duration": 0.083875,
     "end_time": "2020-11-04T09:52:22.844746",
     "exception": false,
     "start_time": "2020-11-04T09:52:22.760871",
     "status": "completed"
    },
    "tags": []
   },
   "source": [
    "## 4. Seller Type\n",
    "Let's get an idea of the selling price for a vehicle sold by a Dealer vs Individual!"
   ]
  },
  {
   "cell_type": "code",
   "execution_count": 10,
   "metadata": {
    "execution": {
     "iopub.execute_input": "2020-11-04T09:52:23.019052Z",
     "iopub.status.busy": "2020-11-04T09:52:23.018056Z",
     "iopub.status.idle": "2020-11-04T09:52:23.309319Z",
     "shell.execute_reply": "2020-11-04T09:52:23.310750Z"
    },
    "papermill": {
     "duration": 0.384992,
     "end_time": "2020-11-04T09:52:23.310955",
     "exception": false,
     "start_time": "2020-11-04T09:52:22.925963",
     "status": "completed"
    },
    "tags": []
   },
   "outputs": [
    {
     "data": {
      "text/plain": [
       "<matplotlib.axes._subplots.AxesSubplot at 0x7ff2a4f3b650>"
      ]
     },
     "execution_count": 10,
     "metadata": {},
     "output_type": "execute_result"
    },
    {
     "data": {
      "image/png": "[encoded data removed]",
      "text/plain": [
       "<Figure size 432x288 with 1 Axes>"
      ]
     },
     "metadata": {
      "needs_background": "light"
     },
     "output_type": "display_data"
    }
   ],
   "source": [
    "sns.barplot(x='Seller_Type',y='Selling_Price',data=vehicles,palette='spring')"
   ]
  },
  {
   "cell_type": "markdown",
   "metadata": {
    "papermill": {
     "duration": 0.086477,
     "end_time": "2020-11-04T09:52:23.486055",
     "exception": false,
     "start_time": "2020-11-04T09:52:23.399578",
     "status": "completed"
    },
    "tags": []
   },
   "source": [
    "**Dealers can sell vehicles at a higher selling price than a general individual. No surprises at all !**"
   ]
  },
  {
   "cell_type": "markdown",
   "metadata": {
    "papermill": {
     "duration": 0.084637,
     "end_time": "2020-11-04T09:52:23.658307",
     "exception": false,
     "start_time": "2020-11-04T09:52:23.573670",
     "status": "completed"
    },
    "tags": []
   },
   "source": [
    "**Visualizing the relationship between Target Variable[Selling price] against Kms Driven,Present_Price and Vehicle age :**\n",
    "## 1. Kms Driven"
   ]
  },
  {
   "cell_type": "code",
   "execution_count": 11,
   "metadata": {
    "execution": {
     "iopub.execute_input": "2020-11-04T09:52:23.853696Z",
     "iopub.status.busy": "2020-11-04T09:52:23.852671Z",
     "iopub.status.idle": "2020-11-04T09:52:24.546480Z",
     "shell.execute_reply": "2020-11-04T09:52:24.548394Z"
    },
    "papermill": {
     "duration": 0.804846,
     "end_time": "2020-11-04T09:52:24.548613",
     "exception": false,
     "start_time": "2020-11-04T09:52:23.743767",
     "status": "completed"
    },
    "tags": []
   },
   "outputs": [
    {
     "data": {
      "text/plain": [
       "<seaborn.axisgrid.FacetGrid at 0x7ff2a4ebd410>"
      ]
     },
     "execution_count": 11,
     "metadata": {},
     "output_type": "execute_result"
    },
    {
     "data": {
      "text/plain": [
       "<Figure size 720x720 with 0 Axes>"
      ]
     },
     "metadata": {},
     "output_type": "display_data"
    },
    {
     "data": {
      "image/png": "[encoded data removed]",
      "text/plain": [
       "<Figure size 360x360 with 1 Axes>"
      ]
     },
     "metadata": {
      "needs_background": "light"
     },
     "output_type": "display_data"
    }
   ],
   "source": [
    "plt.figure(figsize=(10,10))\n",
    "sns.lmplot(x='Kms_Driven',y='Selling_Price',data=vehicles)"
   ]
  },
  {
   "cell_type": "markdown",
   "metadata": {
    "papermill": {
     "duration": 0.072364,
     "end_time": "2020-11-04T09:52:24.720503",
     "exception": false,
     "start_time": "2020-11-04T09:52:24.648139",
     "status": "completed"
    },
    "tags": []
   },
   "source": [
    "**The selling price is found to be higher for vehicles with less kms covered under the belt!**"
   ]
  },
  {
   "cell_type": "markdown",
   "metadata": {
    "papermill": {
     "duration": 0.077775,
     "end_time": "2020-11-04T09:52:24.873095",
     "exception": false,
     "start_time": "2020-11-04T09:52:24.795320",
     "status": "completed"
    },
    "tags": []
   },
   "source": [
    "## 2. Present Price"
   ]
  },
  {
   "cell_type": "code",
   "execution_count": 12,
   "metadata": {
    "execution": {
     "iopub.execute_input": "2020-11-04T09:52:25.026450Z",
     "iopub.status.busy": "2020-11-04T09:52:25.025569Z",
     "iopub.status.idle": "2020-11-04T09:52:25.480087Z",
     "shell.execute_reply": "2020-11-04T09:52:25.480671Z"
    },
    "papermill": {
     "duration": 0.542428,
     "end_time": "2020-11-04T09:52:25.480856",
     "exception": false,
     "start_time": "2020-11-04T09:52:24.938428",
     "status": "completed"
    },
    "tags": []
   },
   "outputs": [
    {
     "data": {
      "text/plain": [
       "<seaborn.axisgrid.FacetGrid at 0x7ff2a45cf050>"
      ]
     },
     "execution_count": 12,
     "metadata": {},
     "output_type": "execute_result"
    },
    {
     "data": {
      "text/plain": [
       "<Figure size 720x720 with 0 Axes>"
      ]
     },
     "metadata": {},
     "output_type": "display_data"
    },
    {
     "data": {
      "image/png": "[encoded data removed]",
      "text/plain": [
       "<Figure size 360x360 with 1 Axes>"
      ]
     },
     "metadata": {
      "needs_background": "light"
     },
     "output_type": "display_data"
    }
   ],
   "source": [
    "plt.figure(figsize=(10,10))\n",
    "sns.lmplot(x='Present_Price',y='Selling_Price',data=vehicles)"
   ]
  },
  {
   "cell_type": "markdown",
   "metadata": {
    "papermill": {
     "duration": 0.065481,
     "end_time": "2020-11-04T09:52:25.613191",
     "exception": false,
     "start_time": "2020-11-04T09:52:25.547710",
     "status": "completed"
    },
    "tags": []
   },
   "source": [
    "**Selling Price tends to increase gradually with an increase in the Present Price of the vehicle.**"
   ]
  },
  {
   "cell_type": "markdown",
   "metadata": {
    "papermill": {
     "duration": 0.063347,
     "end_time": "2020-11-04T09:52:25.739693",
     "exception": false,
     "start_time": "2020-11-04T09:52:25.676346",
     "status": "completed"
    },
    "tags": []
   },
   "source": [
    "## 3. Vehicle Age"
   ]
  },
  {
   "cell_type": "code",
   "execution_count": 13,
   "metadata": {
    "execution": {
     "iopub.execute_input": "2020-11-04T09:52:25.867748Z",
     "iopub.status.busy": "2020-11-04T09:52:25.865971Z",
     "iopub.status.idle": "2020-11-04T09:52:25.894534Z",
     "shell.execute_reply": "2020-11-04T09:52:25.895025Z"
    },
    "papermill": {
     "duration": 0.092731,
     "end_time": "2020-11-04T09:52:25.895162",
     "exception": false,
     "start_time": "2020-11-04T09:52:25.802431",
     "status": "completed"
    },
    "tags": []
   },
   "outputs": [
    {
     "data": {
      "text/html": [
       "<div>\n",
       "<style scoped>\n",
       "    .dataframe tbody tr th:only-of-type {\n",
       "        vertical-align: middle;\n",
       "    }\n",
       "\n",
       "    .dataframe tbody tr th {\n",
       "        vertical-align: top;\n",
       "    }\n",
       "\n",
       "    .dataframe thead th {\n",
       "        text-align: right;\n",
       "    }\n",
       "</style>\n",
       "<table border=\"1\" class=\"dataframe\">\n",
       "  <thead>\n",
       "    <tr style=\"text-align: right;\">\n",
       "      <th></th>\n",
       "      <th>Car_Name</th>\n",
       "      <th>Year</th>\n",
       "      <th>Selling_Price</th>\n",
       "      <th>Present_Price</th>\n",
       "      <th>Kms_Driven</th>\n",
       "      <th>Fuel_Type</th>\n",
       "      <th>Seller_Type</th>\n",
       "      <th>Transmission</th>\n",
       "      <th>Owner</th>\n",
       "      <th>Vehicle_Age</th>\n",
       "    </tr>\n",
       "  </thead>\n",
       "  <tbody>\n",
       "    <tr>\n",
       "      <th>0</th>\n",
       "      <td>ritz</td>\n",
       "      <td>2014</td>\n",
       "      <td>3.35</td>\n",
       "      <td>5.59</td>\n",
       "      <td>27000</td>\n",
       "      <td>Petrol</td>\n",
       "      <td>Dealer</td>\n",
       "      <td>Manual</td>\n",
       "      <td>0</td>\n",
       "      <td>6</td>\n",
       "    </tr>\n",
       "    <tr>\n",
       "      <th>1</th>\n",
       "      <td>sx4</td>\n",
       "      <td>2013</td>\n",
       "      <td>4.75</td>\n",
       "      <td>9.54</td>\n",
       "      <td>43000</td>\n",
       "      <td>Diesel</td>\n",
       "      <td>Dealer</td>\n",
       "      <td>Manual</td>\n",
       "      <td>0</td>\n",
       "      <td>7</td>\n",
       "    </tr>\n",
       "    <tr>\n",
       "      <th>2</th>\n",
       "      <td>ciaz</td>\n",
       "      <td>2017</td>\n",
       "      <td>7.25</td>\n",
       "      <td>9.85</td>\n",
       "      <td>6900</td>\n",
       "      <td>Petrol</td>\n",
       "      <td>Dealer</td>\n",
       "      <td>Manual</td>\n",
       "      <td>0</td>\n",
       "      <td>3</td>\n",
       "    </tr>\n",
       "    <tr>\n",
       "      <th>3</th>\n",
       "      <td>wagon r</td>\n",
       "      <td>2011</td>\n",
       "      <td>2.85</td>\n",
       "      <td>4.15</td>\n",
       "      <td>5200</td>\n",
       "      <td>Petrol</td>\n",
       "      <td>Dealer</td>\n",
       "      <td>Manual</td>\n",
       "      <td>0</td>\n",
       "      <td>9</td>\n",
       "    </tr>\n",
       "    <tr>\n",
       "      <th>4</th>\n",
       "      <td>swift</td>\n",
       "      <td>2014</td>\n",
       "      <td>4.60</td>\n",
       "      <td>6.87</td>\n",
       "      <td>42450</td>\n",
       "      <td>Diesel</td>\n",
       "      <td>Dealer</td>\n",
       "      <td>Manual</td>\n",
       "      <td>0</td>\n",
       "      <td>6</td>\n",
       "    </tr>\n",
       "    <tr>\n",
       "      <th>5</th>\n",
       "      <td>vitara brezza</td>\n",
       "      <td>2018</td>\n",
       "      <td>9.25</td>\n",
       "      <td>9.83</td>\n",
       "      <td>2071</td>\n",
       "      <td>Diesel</td>\n",
       "      <td>Dealer</td>\n",
       "      <td>Manual</td>\n",
       "      <td>0</td>\n",
       "      <td>2</td>\n",
       "    </tr>\n",
       "    <tr>\n",
       "      <th>6</th>\n",
       "      <td>ciaz</td>\n",
       "      <td>2015</td>\n",
       "      <td>6.75</td>\n",
       "      <td>8.12</td>\n",
       "      <td>18796</td>\n",
       "      <td>Petrol</td>\n",
       "      <td>Dealer</td>\n",
       "      <td>Manual</td>\n",
       "      <td>0</td>\n",
       "      <td>5</td>\n",
       "    </tr>\n",
       "    <tr>\n",
       "      <th>7</th>\n",
       "      <td>s cross</td>\n",
       "      <td>2015</td>\n",
       "      <td>6.50</td>\n",
       "      <td>8.61</td>\n",
       "      <td>33429</td>\n",
       "      <td>Diesel</td>\n",
       "      <td>Dealer</td>\n",
       "      <td>Manual</td>\n",
       "      <td>0</td>\n",
       "      <td>5</td>\n",
       "    </tr>\n",
       "    <tr>\n",
       "      <th>8</th>\n",
       "      <td>ciaz</td>\n",
       "      <td>2016</td>\n",
       "      <td>8.75</td>\n",
       "      <td>8.89</td>\n",
       "      <td>20273</td>\n",
       "      <td>Diesel</td>\n",
       "      <td>Dealer</td>\n",
       "      <td>Manual</td>\n",
       "      <td>0</td>\n",
       "      <td>4</td>\n",
       "    </tr>\n",
       "    <tr>\n",
       "      <th>9</th>\n",
       "      <td>ciaz</td>\n",
       "      <td>2015</td>\n",
       "      <td>7.45</td>\n",
       "      <td>8.92</td>\n",
       "      <td>42367</td>\n",
       "      <td>Diesel</td>\n",
       "      <td>Dealer</td>\n",
       "      <td>Manual</td>\n",
       "      <td>0</td>\n",
       "      <td>5</td>\n",
       "    </tr>\n",
       "  </tbody>\n",
       "</table>\n",
       "</div>"
      ],
      "text/plain": [
       "        Car_Name  Year  Selling_Price  Present_Price  Kms_Driven Fuel_Type  \\\n",
       "0           ritz  2014           3.35           5.59       27000    Petrol   \n",
       "1            sx4  2013           4.75           9.54       43000    Diesel   \n",
       "2           ciaz  2017           7.25           9.85        6900    Petrol   \n",
       "3        wagon r  2011           2.85           4.15        5200    Petrol   \n",
       "4          swift  2014           4.60           6.87       42450    Diesel   \n",
       "5  vitara brezza  2018           9.25           9.83        2071    Diesel   \n",
       "6           ciaz  2015           6.75           8.12       18796    Petrol   \n",
       "7        s cross  2015           6.50           8.61       33429    Diesel   \n",
       "8           ciaz  2016           8.75           8.89       20273    Diesel   \n",
       "9           ciaz  2015           7.45           8.92       42367    Diesel   \n",
       "\n",
       "  Seller_Type Transmission  Owner  Vehicle_Age  \n",
       "0      Dealer       Manual      0            6  \n",
       "1      Dealer       Manual      0            7  \n",
       "2      Dealer       Manual      0            3  \n",
       "3      Dealer       Manual      0            9  \n",
       "4      Dealer       Manual      0            6  \n",
       "5      Dealer       Manual      0            2  \n",
       "6      Dealer       Manual      0            5  \n",
       "7      Dealer       Manual      0            5  \n",
       "8      Dealer       Manual      0            4  \n",
       "9      Dealer       Manual      0            5  "
      ]
     },
     "execution_count": 13,
     "metadata": {},
     "output_type": "execute_result"
    }
   ],
   "source": [
    "#creating a new column 'Vehicle_Age' and storing the age of the vehicles to establish a direct relationship between the age and selling price\n",
    "vehicles['Vehicle_Age']=2020- vehicles['Year']\n",
    "\n",
    "#check out the newly added column\n",
    "vehicles.head(10)"
   ]
  },
  {
   "cell_type": "code",
   "execution_count": 14,
   "metadata": {
    "execution": {
     "iopub.execute_input": "2020-11-04T09:52:26.116350Z",
     "iopub.status.busy": "2020-11-04T09:52:26.040486Z",
     "iopub.status.idle": "2020-11-04T09:52:26.485570Z",
     "shell.execute_reply": "2020-11-04T09:52:26.486187Z"
    },
    "papermill": {
     "duration": 0.525321,
     "end_time": "2020-11-04T09:52:26.486390",
     "exception": false,
     "start_time": "2020-11-04T09:52:25.961069",
     "status": "completed"
    },
    "tags": []
   },
   "outputs": [
    {
     "data": {
      "text/plain": [
       "<matplotlib.axes._subplots.AxesSubplot at 0x7ff2a402d0d0>"
      ]
     },
     "execution_count": 14,
     "metadata": {},
     "output_type": "execute_result"
    },
    {
     "data": {
      "image/png": "[encoded data removed]",
      "text/plain": [
       "<Figure size 720x720 with 1 Axes>"
      ]
     },
     "metadata": {
      "needs_background": "light"
     },
     "output_type": "display_data"
    }
   ],
   "source": [
    "plt.figure(figsize=(10,10))\n",
    "sns.regplot(x='Vehicle_Age',y='Selling_Price',data=vehicles)"
   ]
  },
  {
   "cell_type": "markdown",
   "metadata": {
    "papermill": {
     "duration": 0.064983,
     "end_time": "2020-11-04T09:52:26.660846",
     "exception": false,
     "start_time": "2020-11-04T09:52:26.595863",
     "status": "completed"
    },
    "tags": []
   },
   "source": [
    "**It seems the selling price decreases overall for older/ageing vehicles!**"
   ]
  },
  {
   "cell_type": "markdown",
   "metadata": {
    "papermill": {
     "duration": 0.060154,
     "end_time": "2020-11-04T09:52:26.784585",
     "exception": false,
     "start_time": "2020-11-04T09:52:26.724431",
     "status": "completed"
    },
    "tags": []
   },
   "source": [
    "## Feature Engineering\n",
    "We shall convert categorical features to numeric type!"
   ]
  },
  {
   "cell_type": "code",
   "execution_count": 15,
   "metadata": {
    "execution": {
     "iopub.execute_input": "2020-11-04T09:52:26.925870Z",
     "iopub.status.busy": "2020-11-04T09:52:26.914984Z",
     "iopub.status.idle": "2020-11-04T09:52:26.940064Z",
     "shell.execute_reply": "2020-11-04T09:52:26.940646Z"
    },
    "papermill": {
     "duration": 0.094067,
     "end_time": "2020-11-04T09:52:26.940795",
     "exception": false,
     "start_time": "2020-11-04T09:52:26.846728",
     "status": "completed"
    },
    "tags": []
   },
   "outputs": [
    {
     "data": {
      "text/html": [
       "<div>\n",
       "<style scoped>\n",
       "    .dataframe tbody tr th:only-of-type {\n",
       "        vertical-align: middle;\n",
       "    }\n",
       "\n",
       "    .dataframe tbody tr th {\n",
       "        vertical-align: top;\n",
       "    }\n",
       "\n",
       "    .dataframe thead th {\n",
       "        text-align: right;\n",
       "    }\n",
       "</style>\n",
       "<table border=\"1\" class=\"dataframe\">\n",
       "  <thead>\n",
       "    <tr style=\"text-align: right;\">\n",
       "      <th></th>\n",
       "      <th>Car_Name</th>\n",
       "      <th>Selling_Price</th>\n",
       "      <th>Present_Price</th>\n",
       "      <th>Kms_Driven</th>\n",
       "      <th>Owner</th>\n",
       "      <th>Vehicle_Age</th>\n",
       "      <th>Fuel_Type_Diesel</th>\n",
       "      <th>Fuel_Type_Petrol</th>\n",
       "      <th>Transmission_Manual</th>\n",
       "      <th>Seller_Type_Individual</th>\n",
       "    </tr>\n",
       "  </thead>\n",
       "  <tbody>\n",
       "    <tr>\n",
       "      <th>0</th>\n",
       "      <td>ritz</td>\n",
       "      <td>3.35</td>\n",
       "      <td>5.59</td>\n",
       "      <td>27000</td>\n",
       "      <td>0</td>\n",
       "      <td>6</td>\n",
       "      <td>0</td>\n",
       "      <td>1</td>\n",
       "      <td>1</td>\n",
       "      <td>0</td>\n",
       "    </tr>\n",
       "    <tr>\n",
       "      <th>1</th>\n",
       "      <td>sx4</td>\n",
       "      <td>4.75</td>\n",
       "      <td>9.54</td>\n",
       "      <td>43000</td>\n",
       "      <td>0</td>\n",
       "      <td>7</td>\n",
       "      <td>1</td>\n",
       "      <td>0</td>\n",
       "      <td>1</td>\n",
       "      <td>0</td>\n",
       "    </tr>\n",
       "    <tr>\n",
       "      <th>2</th>\n",
       "      <td>ciaz</td>\n",
       "      <td>7.25</td>\n",
       "      <td>9.85</td>\n",
       "      <td>6900</td>\n",
       "      <td>0</td>\n",
       "      <td>3</td>\n",
       "      <td>0</td>\n",
       "      <td>1</td>\n",
       "      <td>1</td>\n",
       "      <td>0</td>\n",
       "    </tr>\n",
       "    <tr>\n",
       "      <th>3</th>\n",
       "      <td>wagon r</td>\n",
       "      <td>2.85</td>\n",
       "      <td>4.15</td>\n",
       "      <td>5200</td>\n",
       "      <td>0</td>\n",
       "      <td>9</td>\n",
       "      <td>0</td>\n",
       "      <td>1</td>\n",
       "      <td>1</td>\n",
       "      <td>0</td>\n",
       "    </tr>\n",
       "    <tr>\n",
       "      <th>4</th>\n",
       "      <td>swift</td>\n",
       "      <td>4.60</td>\n",
       "      <td>6.87</td>\n",
       "      <td>42450</td>\n",
       "      <td>0</td>\n",
       "      <td>6</td>\n",
       "      <td>1</td>\n",
       "      <td>0</td>\n",
       "      <td>1</td>\n",
       "      <td>0</td>\n",
       "    </tr>\n",
       "  </tbody>\n",
       "</table>\n",
       "</div>"
      ],
      "text/plain": [
       "  Car_Name  Selling_Price  Present_Price  Kms_Driven  Owner  Vehicle_Age  \\\n",
       "0     ritz           3.35           5.59       27000      0            6   \n",
       "1      sx4           4.75           9.54       43000      0            7   \n",
       "2     ciaz           7.25           9.85        6900      0            3   \n",
       "3  wagon r           2.85           4.15        5200      0            9   \n",
       "4    swift           4.60           6.87       42450      0            6   \n",
       "\n",
       "   Fuel_Type_Diesel  Fuel_Type_Petrol  Transmission_Manual  \\\n",
       "0                 0                 1                    1   \n",
       "1                 1                 0                    1   \n",
       "2                 0                 1                    1   \n",
       "3                 0                 1                    1   \n",
       "4                 1                 0                    1   \n",
       "\n",
       "   Seller_Type_Individual  \n",
       "0                       0  \n",
       "1                       0  \n",
       "2                       0  \n",
       "3                       0  \n",
       "4                       0  "
      ]
     },
     "execution_count": 15,
     "metadata": {},
     "output_type": "execute_result"
    }
   ],
   "source": [
    "#using Pandas' built in function 'get_dummies()' to swiftly map the categorical values to integers like (0/1/2/3....)\n",
    "vehicles=pd.get_dummies(vehicles,columns=['Fuel_Type','Transmission','Seller_Type'],drop_first=True)\n",
    "\n",
    "#dropping the Year column since it becomes redundant and irrelevant after Vehicle_Age column\n",
    "vehicles.drop(columns=['Year'],inplace=True)\n",
    "\n",
    "#check out the dataset with new changes\n",
    "vehicles.head()"
   ]
  },
  {
   "cell_type": "markdown",
   "metadata": {
    "papermill": {
     "duration": 0.066068,
     "end_time": "2020-11-04T09:52:27.078887",
     "exception": false,
     "start_time": "2020-11-04T09:52:27.012819",
     "status": "completed"
    },
    "tags": []
   },
   "source": [
    "* Fuel attribute is now divided into two new attributes where '01' denotes Petrol, '10' denotes Diesel and '00' denotes CNG.\n",
    "* Transmission attribute is mapped to Transmission_Manual where '1' denotes Manual and '0' Automatic.\n",
    "* Seller_Type attribute is mapped to Seller_Type_Individual where '1' denotes Seller_Type_Dealer  and '0' Seller_Type_Individual.\n"
   ]
  },
  {
   "cell_type": "markdown",
   "metadata": {
    "papermill": {
     "duration": 0.062089,
     "end_time": "2020-11-04T09:52:27.204479",
     "exception": false,
     "start_time": "2020-11-04T09:52:27.142390",
     "status": "completed"
    },
    "tags": []
   },
   "source": [
    "## Understanding and Visualizing Correlations amongst the features"
   ]
  },
  {
   "cell_type": "code",
   "execution_count": 16,
   "metadata": {
    "execution": {
     "iopub.execute_input": "2020-11-04T09:52:27.342812Z",
     "iopub.status.busy": "2020-11-04T09:52:27.341710Z",
     "iopub.status.idle": "2020-11-04T09:52:54.497578Z",
     "shell.execute_reply": "2020-11-04T09:52:54.498159Z"
    },
    "papermill": {
     "duration": 27.229462,
     "end_time": "2020-11-04T09:52:54.498314",
     "exception": false,
     "start_time": "2020-11-04T09:52:27.268852",
     "status": "completed"
    },
    "tags": []
   },
   "outputs": [
    {
     "data": {
      "text/plain": [
       "<seaborn.axisgrid.PairGrid at 0x7ff2a4ebdc50>"
      ]
     },
     "execution_count": 16,
     "metadata": {},
     "output_type": "execute_result"
    },
    {
     "data": {
      "image/png": "[encoded data removed]",
      "text/plain": [
       "<Figure size 1620x1620 with 90 Axes>"
      ]
     },
     "metadata": {
      "needs_background": "light"
     },
     "output_type": "display_data"
    }
   ],
   "source": [
    "sns.pairplot(vehicles)"
   ]
  },
  {
   "cell_type": "markdown",
   "metadata": {
    "papermill": {
     "duration": 0.067065,
     "end_time": "2020-11-04T09:52:54.633148",
     "exception": false,
     "start_time": "2020-11-04T09:52:54.566083",
     "status": "completed"
    },
    "tags": []
   },
   "source": [
    "* The pair plot technique allows us to visualize distributions of individual numerical features, as well as correlations/relationships between numerical features. \n",
    "* Selling price seems to be considerably correlated with the Present Price feature."
   ]
  },
  {
   "cell_type": "markdown",
   "metadata": {
    "papermill": {
     "duration": 0.066529,
     "end_time": "2020-11-04T09:52:54.766140",
     "exception": false,
     "start_time": "2020-11-04T09:52:54.699611",
     "status": "completed"
    },
    "tags": []
   },
   "source": [
    "## Correlation HeatMap"
   ]
  },
  {
   "cell_type": "code",
   "execution_count": 17,
   "metadata": {
    "execution": {
     "iopub.execute_input": "2020-11-04T09:52:54.910473Z",
     "iopub.status.busy": "2020-11-04T09:52:54.909296Z",
     "iopub.status.idle": "2020-11-04T09:52:55.843494Z",
     "shell.execute_reply": "2020-11-04T09:52:55.839943Z"
    },
    "papermill": {
     "duration": 1.009709,
     "end_time": "2020-11-04T09:52:55.843656",
     "exception": false,
     "start_time": "2020-11-04T09:52:54.833947",
     "status": "completed"
    },
    "tags": []
   },
   "outputs": [
    {
     "data": {
      "text/plain": [
       "<matplotlib.axes._subplots.AxesSubplot at 0x7ff29e3e2390>"
      ]
     },
     "execution_count": 17,
     "metadata": {},
     "output_type": "execute_result"
    },
    {
     "data": {
      "image/png": "[encoded data removed]",
      "text/plain": [
       "<Figure size 1872x1584 with 2 Axes>"
      ]
     },
     "metadata": {
      "needs_background": "light"
     },
     "output_type": "display_data"
    }
   ],
   "source": [
    "correlations = vehicles.corr()\n",
    "\n",
    "indx=correlations.index\n",
    "plt.figure(figsize=(26,22))\n",
    "sns.heatmap(vehicles[indx].corr(),annot=True,cmap=\"YlGnBu\")\n"
   ]
  },
  {
   "cell_type": "markdown",
   "metadata": {
    "papermill": {
     "duration": 0.108879,
     "end_time": "2020-11-04T09:52:56.064576",
     "exception": false,
     "start_time": "2020-11-04T09:52:55.955697",
     "status": "completed"
    },
    "tags": []
   },
   "source": [
    "# Training our Linear Regression Model\n",
    "\n",
    "Let's now begin to train out regression model! We will need to first split up our data into an vehicles_train array that contains the part of dataset used for training data, and a vehicles_test array used for test data."
   ]
  },
  {
   "cell_type": "markdown",
   "metadata": {
    "papermill": {
     "duration": 0.107295,
     "end_time": "2020-11-04T09:52:56.276336",
     "exception": false,
     "start_time": "2020-11-04T09:52:56.169041",
     "status": "completed"
    },
    "tags": []
   },
   "source": [
    "## 1. Train Test Split"
   ]
  },
  {
   "cell_type": "code",
   "execution_count": 18,
   "metadata": {
    "execution": {
     "iopub.execute_input": "2020-11-04T09:52:56.496069Z",
     "iopub.status.busy": "2020-11-04T09:52:56.495074Z",
     "iopub.status.idle": "2020-11-04T09:52:56.632251Z",
     "shell.execute_reply": "2020-11-04T09:52:56.633789Z"
    },
    "papermill": {
     "duration": 0.254983,
     "end_time": "2020-11-04T09:52:56.634009",
     "exception": false,
     "start_time": "2020-11-04T09:52:56.379026",
     "status": "completed"
    },
    "tags": []
   },
   "outputs": [],
   "source": [
    "# We're splitting up our data set into groups called 'train' and 'test'\n",
    "from sklearn.model_selection import train_test_split\n",
    "\n",
    "np.random.seed(0)\n",
    "vehicles_train,vehicles_test = train_test_split(vehicles, test_size=0.3, random_state=100)\n",
    "\n",
    "# We'll perform feature scaling to ensure normalization of the data within a particular range.\n",
    "#Sometimes, it also helps in speeding up the calculations in an algorithm.\n",
    "from sklearn.preprocessing import StandardScaler\n",
    "\n",
    "scaler= StandardScaler()\n",
    "\n",
    "#features we need to scale are assigned as a list.\n",
    "var=['Selling_Price','Present_Price','Kms_Driven','Vehicle_Age']\n",
    "\n",
    "#scaling the training data(fitting the parameters and transforming the values)\n",
    "vehicles_train[var]=scaler.fit_transform(vehicles_train[var])\n",
    "\n",
    "#transforming the test data.We avoid fitting the values to prevent data leakage!\n",
    "vehicles_test[var]=scaler.transform(vehicles_test[var])\n",
    "\n",
    "#We will toss out the Car_Name column from training and test data because it only has text info that the linear regression model can't use!\n",
    "\n",
    "X_test=vehicles_test.drop(columns=['Car_Name','Selling_Price'],axis=1)\n",
    "y_test=vehicles_test['Selling_Price']\n",
    "\n",
    "X_train=vehicles_train.drop(columns=['Car_Name','Selling_Price'],axis=1)\n",
    "y_train=vehicles_train['Selling_Price']"
   ]
  },
  {
   "cell_type": "markdown",
   "metadata": {
    "papermill": {
     "duration": 0.12725,
     "end_time": "2020-11-04T09:52:56.879978",
     "exception": false,
     "start_time": "2020-11-04T09:52:56.752728",
     "status": "completed"
    },
    "tags": []
   },
   "source": [
    "## 2. Creating and Training the Model\n",
    "\n",
    "- Using Linear Regression Method"
   ]
  },
  {
   "cell_type": "code",
   "execution_count": 19,
   "metadata": {
    "execution": {
     "iopub.execute_input": "2020-11-04T09:52:57.109851Z",
     "iopub.status.busy": "2020-11-04T09:52:57.108935Z",
     "iopub.status.idle": "2020-11-04T09:52:57.241605Z",
     "shell.execute_reply": "2020-11-04T09:52:57.243101Z"
    },
    "papermill": {
     "duration": 0.251596,
     "end_time": "2020-11-04T09:52:57.243352",
     "exception": false,
     "start_time": "2020-11-04T09:52:56.991756",
     "status": "completed"
    },
    "tags": []
   },
   "outputs": [
    {
     "data": {
      "text/plain": [
       "LinearRegression()"
      ]
     },
     "execution_count": 19,
     "metadata": {},
     "output_type": "execute_result"
    }
   ],
   "source": [
    "from sklearn.linear_model import LinearRegression\n",
    "\n",
    "lm=LinearRegression()\n",
    "\n",
    "lm.fit(X_train,y_train)"
   ]
  },
  {
   "cell_type": "markdown",
   "metadata": {
    "papermill": {
     "duration": 0.105575,
     "end_time": "2020-11-04T09:52:57.477590",
     "exception": false,
     "start_time": "2020-11-04T09:52:57.372015",
     "status": "completed"
    },
    "tags": []
   },
   "source": [
    "## 3. Model Evaluation\n",
    "Let's evaluate the model by checking out it's coefficients and how we can interpret them.[](http://)"
   ]
  },
  {
   "cell_type": "code",
   "execution_count": 20,
   "metadata": {
    "execution": {
     "iopub.execute_input": "2020-11-04T09:52:57.704095Z",
     "iopub.status.busy": "2020-11-04T09:52:57.703142Z",
     "iopub.status.idle": "2020-11-04T09:52:57.706808Z",
     "shell.execute_reply": "2020-11-04T09:52:57.704843Z"
    },
    "papermill": {
     "duration": 0.108566,
     "end_time": "2020-11-04T09:52:57.706938",
     "exception": false,
     "start_time": "2020-11-04T09:52:57.598372",
     "status": "completed"
    },
    "tags": []
   },
   "outputs": [
    {
     "name": "stdout",
     "output_type": "stream",
     "text": [
      "0.17857294626649178\n"
     ]
    }
   ],
   "source": [
    "# print the intercept of best-fit line\n",
    "print(lm.intercept_)"
   ]
  },
  {
   "cell_type": "code",
   "execution_count": 21,
   "metadata": {
    "execution": {
     "iopub.execute_input": "2020-11-04T09:52:57.899615Z",
     "iopub.status.busy": "2020-11-04T09:52:57.898669Z",
     "iopub.status.idle": "2020-11-04T09:52:57.906348Z",
     "shell.execute_reply": "2020-11-04T09:52:57.907508Z"
    },
    "papermill": {
     "duration": 0.106951,
     "end_time": "2020-11-04T09:52:57.907686",
     "exception": false,
     "start_time": "2020-11-04T09:52:57.800735",
     "status": "completed"
    },
    "tags": []
   },
   "outputs": [
    {
     "data": {
      "text/html": [
       "<div>\n",
       "<style scoped>\n",
       "    .dataframe tbody tr th:only-of-type {\n",
       "        vertical-align: middle;\n",
       "    }\n",
       "\n",
       "    .dataframe tbody tr th {\n",
       "        vertical-align: top;\n",
       "    }\n",
       "\n",
       "    .dataframe thead th {\n",
       "        text-align: right;\n",
       "    }\n",
       "</style>\n",
       "<table border=\"1\" class=\"dataframe\">\n",
       "  <thead>\n",
       "    <tr style=\"text-align: right;\">\n",
       "      <th></th>\n",
       "      <th>Coefficient</th>\n",
       "    </tr>\n",
       "  </thead>\n",
       "  <tbody>\n",
       "    <tr>\n",
       "      <th>Present_Price</th>\n",
       "      <td>0.742407</td>\n",
       "    </tr>\n",
       "    <tr>\n",
       "      <th>Kms_Driven</th>\n",
       "      <td>-0.041166</td>\n",
       "    </tr>\n",
       "    <tr>\n",
       "      <th>Owner</th>\n",
       "      <td>0.117336</td>\n",
       "    </tr>\n",
       "    <tr>\n",
       "      <th>Vehicle_Age</th>\n",
       "      <td>-0.227644</td>\n",
       "    </tr>\n",
       "    <tr>\n",
       "      <th>Fuel_Type_Diesel</th>\n",
       "      <td>0.486842</td>\n",
       "    </tr>\n",
       "    <tr>\n",
       "      <th>Fuel_Type_Petrol</th>\n",
       "      <td>0.081617</td>\n",
       "    </tr>\n",
       "    <tr>\n",
       "      <th>Transmission_Manual</th>\n",
       "      <td>-0.312737</td>\n",
       "    </tr>\n",
       "    <tr>\n",
       "      <th>Seller_Type_Individual</th>\n",
       "      <td>-0.221881</td>\n",
       "    </tr>\n",
       "  </tbody>\n",
       "</table>\n",
       "</div>"
      ],
      "text/plain": [
       "                        Coefficient\n",
       "Present_Price              0.742407\n",
       "Kms_Driven                -0.041166\n",
       "Owner                      0.117336\n",
       "Vehicle_Age               -0.227644\n",
       "Fuel_Type_Diesel           0.486842\n",
       "Fuel_Type_Petrol           0.081617\n",
       "Transmission_Manual       -0.312737\n",
       "Seller_Type_Individual    -0.221881"
      ]
     },
     "execution_count": 21,
     "metadata": {},
     "output_type": "execute_result"
    }
   ],
   "source": [
    "# temp here stores the numerical columns from the vehicles dataset that influence the prediction\n",
    "temp=vehicles.drop(columns=['Car_Name','Selling_Price'])\n",
    "\n",
    "coeff_df = pd.DataFrame(lm.coef_,temp.columns,columns=['Coefficient'])\n",
    "coeff_df "
   ]
  },
  {
   "cell_type": "markdown",
   "metadata": {
    "papermill": {
     "duration": 0.118742,
     "end_time": "2020-11-04T09:52:58.139609",
     "exception": false,
     "start_time": "2020-11-04T09:52:58.020867",
     "status": "completed"
    },
    "tags": []
   },
   "source": [
    "### Interpreting the coefficients:\n",
    "\n",
    "**For numerical features:**\n",
    "* Holding all other features fixed, a 1 unit increase in Present_Price is associated with an increase of 0.742.\n",
    "* Holding all other features fixed, a 1 unit increase in Kms_Driven is associated with a decrease of .0411.\n",
    "* Holding all other features fixed, a 1 unit increase in Vehicle_Age means decrease in 0.22764."
   ]
  },
  {
   "cell_type": "markdown",
   "metadata": {
    "papermill": {
     "duration": 0.076901,
     "end_time": "2020-11-04T09:52:58.307320",
     "exception": false,
     "start_time": "2020-11-04T09:52:58.230419",
     "status": "completed"
    },
    "tags": []
   },
   "source": [
    "## 4. Predictions from our Model\n",
    "Let's grab predictions off our test set and see how well it did!"
   ]
  },
  {
   "cell_type": "code",
   "execution_count": 22,
   "metadata": {
    "execution": {
     "iopub.execute_input": "2020-11-04T09:52:58.468414Z",
     "iopub.status.busy": "2020-11-04T09:52:58.466242Z",
     "iopub.status.idle": "2020-11-04T09:52:58.634883Z",
     "shell.execute_reply": "2020-11-04T09:52:58.635475Z"
    },
    "papermill": {
     "duration": 0.25768,
     "end_time": "2020-11-04T09:52:58.635630",
     "exception": false,
     "start_time": "2020-11-04T09:52:58.377950",
     "status": "completed"
    },
    "tags": []
   },
   "outputs": [
    {
     "data": {
      "text/plain": [
       "<matplotlib.collections.PathCollection at 0x7ff293226a10>"
      ]
     },
     "execution_count": 22,
     "metadata": {},
     "output_type": "execute_result"
    },
    {
     "data": {
      "image/png": "[encoded data removed]",
      "text/plain": [
       "<Figure size 432x288 with 1 Axes>"
      ]
     },
     "metadata": {
      "needs_background": "light"
     },
     "output_type": "display_data"
    }
   ],
   "source": [
    "predictions=lm.predict(X_test)\n",
    "\n",
    "\n",
    "fig = plt.figure()\n",
    "# Plot-label\n",
    "fig.suptitle('y_test vs predictions')\n",
    "\n",
    "#X-label\n",
    "plt.xlabel('y_test')\n",
    "\n",
    "# Y-label\n",
    "plt.ylabel('predcitions')\n",
    "plt.scatter(y_test,predictions)"
   ]
  },
  {
   "cell_type": "markdown",
   "metadata": {
    "papermill": {
     "duration": 0.082007,
     "end_time": "2020-11-04T09:52:58.802370",
     "exception": false,
     "start_time": "2020-11-04T09:52:58.720363",
     "status": "completed"
    },
    "tags": []
   },
   "source": [
    "**Residual Histogram**"
   ]
  },
  {
   "cell_type": "code",
   "execution_count": 23,
   "metadata": {
    "execution": {
     "iopub.execute_input": "2020-11-04T09:52:58.978889Z",
     "iopub.status.busy": "2020-11-04T09:52:58.977836Z",
     "iopub.status.idle": "2020-11-04T09:52:59.195315Z",
     "shell.execute_reply": "2020-11-04T09:52:59.194520Z"
    },
    "papermill": {
     "duration": 0.310397,
     "end_time": "2020-11-04T09:52:59.195454",
     "exception": false,
     "start_time": "2020-11-04T09:52:58.885057",
     "status": "completed"
    },
    "tags": []
   },
   "outputs": [
    {
     "data": {
      "text/plain": [
       "Text(0.5, 0.98, 'Residual Analysis')"
      ]
     },
     "execution_count": 23,
     "metadata": {},
     "output_type": "execute_result"
    },
    {
     "data": {
      "image/png": "[encoded data removed]",
      "text/plain": [
       "<Figure size 576x576 with 1 Axes>"
      ]
     },
     "metadata": {
      "needs_background": "light"
     },
     "output_type": "display_data"
    }
   ],
   "source": [
    "fig=plt.figure(figsize=(8,8))\n",
    "  \n",
    "sns.distplot((y_test-predictions),bins=20)\n",
    "\n",
    "#Plot Label\n",
    "fig.suptitle('Residual Analysis', fontsize = 20)           "
   ]
  },
  {
   "cell_type": "markdown",
   "metadata": {
    "papermill": {
     "duration": 0.079547,
     "end_time": "2020-11-04T09:52:59.362528",
     "exception": false,
     "start_time": "2020-11-04T09:52:59.282981",
     "status": "completed"
    },
    "tags": []
   },
   "source": [
    "## 5. Regression Evaluation Metrics\n",
    "Here are three common evaluation metrics for regression problems:\n",
    "\n",
    "**Mean Absolute Error** (MAE) is the mean of the absolute value of the errors:\n",
    "\n",
    "$$\\frac 1n\\sum_{i=1}^n|y_i-\\hat{y}_i|$$\n",
    "\n",
    "**Mean Squared Error** (MSE) is the mean of the squared errors:\n",
    "\n",
    "$$\\frac 1n\\sum_{i=1}^n(y_i-\\hat{y}_i)^2$$\n",
    "\n",
    "**Root Mean Squared Error** (RMSE) is the square root of the mean of the squared errors:\n",
    "\n",
    "$$\\sqrt{\\frac 1n\\sum_{i=1}^n(y_i-\\hat{y}_i)^2}$$\n",
    "\n",
    "Comparing these metrics:\n",
    "\n",
    "- **MAE** is the easiest to understand, because it's the average error.\n",
    "- **MSE** is more popular than MAE, because MSE \"punishes\" larger errors, which tends to be useful in the real world.\n",
    "- **RMSE** is even more popular than MSE, because RMSE is interpretable in the \"y\" units.\n",
    "\n",
    "All of these are **loss functions**, because we want to minimize them."
   ]
  },
  {
   "cell_type": "code",
   "execution_count": 24,
   "metadata": {
    "execution": {
     "iopub.execute_input": "2020-11-04T09:52:59.536075Z",
     "iopub.status.busy": "2020-11-04T09:52:59.535293Z",
     "iopub.status.idle": "2020-11-04T09:52:59.541165Z",
     "shell.execute_reply": "2020-11-04T09:52:59.542018Z"
    },
    "papermill": {
     "duration": 0.093961,
     "end_time": "2020-11-04T09:52:59.542203",
     "exception": false,
     "start_time": "2020-11-04T09:52:59.448242",
     "status": "completed"
    },
    "tags": []
   },
   "outputs": [
    {
     "name": "stdout",
     "output_type": "stream",
     "text": [
      "MAE: 0.2522278859371737\n",
      "MSE: 0.17152491124206024\n",
      "RMSE: 0.4141556606423003\n"
     ]
    }
   ],
   "source": [
    "from sklearn import metrics\n",
    "\n",
    "print('MAE:', metrics.mean_absolute_error(y_test, predictions))\n",
    "print('MSE:', metrics.mean_squared_error(y_test, predictions))\n",
    "print('RMSE:', np.sqrt(metrics.mean_squared_error(y_test, predictions)))"
   ]
  },
  {
   "cell_type": "code",
   "execution_count": 25,
   "metadata": {
    "execution": {
     "iopub.execute_input": "2020-11-04T09:52:59.712041Z",
     "iopub.status.busy": "2020-11-04T09:52:59.708823Z",
     "iopub.status.idle": "2020-11-04T09:52:59.715330Z",
     "shell.execute_reply": "2020-11-04T09:52:59.715846Z"
    },
    "papermill": {
     "duration": 0.094339,
     "end_time": "2020-11-04T09:52:59.715979",
     "exception": false,
     "start_time": "2020-11-04T09:52:59.621640",
     "status": "completed"
    },
    "tags": []
   },
   "outputs": [
    {
     "data": {
      "text/plain": [
       "0.8316982715837706"
      ]
     },
     "execution_count": 25,
     "metadata": {},
     "output_type": "execute_result"
    }
   ],
   "source": [
    "R2 = metrics.r2_score(y_test,predictions)\n",
    "R2"
   ]
  },
  {
   "cell_type": "markdown",
   "metadata": {
    "papermill": {
     "duration": 0.077146,
     "end_time": "2020-11-04T09:52:59.873586",
     "exception": false,
     "start_time": "2020-11-04T09:52:59.796440",
     "status": "completed"
    },
    "tags": []
   },
   "source": [
    "# Update:Implementing Advanced Regression(XGBoost Regression) "
   ]
  },
  {
   "cell_type": "markdown",
   "metadata": {
    "papermill": {
     "duration": 0.076089,
     "end_time": "2020-11-04T09:53:00.027908",
     "exception": false,
     "start_time": "2020-11-04T09:52:59.951819",
     "status": "completed"
    },
    "tags": []
   },
   "source": [
    "### Core Imports"
   ]
  },
  {
   "cell_type": "code",
   "execution_count": 26,
   "metadata": {
    "execution": {
     "iopub.execute_input": "2020-11-04T09:53:00.187616Z",
     "iopub.status.busy": "2020-11-04T09:53:00.186687Z",
     "iopub.status.idle": "2020-11-04T09:53:02.304396Z",
     "shell.execute_reply": "2020-11-04T09:53:02.303326Z"
    },
    "papermill": {
     "duration": 2.199988,
     "end_time": "2020-11-04T09:53:02.304527",
     "exception": false,
     "start_time": "2020-11-04T09:53:00.104539",
     "status": "completed"
    },
    "tags": []
   },
   "outputs": [],
   "source": [
    "# Import xgboost ensemble model\n",
    "import xgboost\n",
    "\n",
    "#core import for hyperparamter tuning\n",
    "from sklearn.model_selection import RandomizedSearchCV\n",
    "\n",
    "#creates a xgbRegressor object\n",
    "regressor=xgboost.XGBRegressor()\n"
   ]
  },
  {
   "cell_type": "markdown",
   "metadata": {
    "papermill": {
     "duration": 0.074356,
     "end_time": "2020-11-04T09:53:02.454498",
     "exception": false,
     "start_time": "2020-11-04T09:53:02.380142",
     "status": "completed"
    },
    "tags": []
   },
   "source": [
    "### Tuning and Training the Model"
   ]
  },
  {
   "cell_type": "code",
   "execution_count": 27,
   "metadata": {
    "execution": {
     "iopub.execute_input": "2020-11-04T09:53:02.618696Z",
     "iopub.status.busy": "2020-11-04T09:53:02.617674Z",
     "iopub.status.idle": "2020-11-04T09:53:02.620141Z",
     "shell.execute_reply": "2020-11-04T09:53:02.620831Z"
    },
    "papermill": {
     "duration": 0.091691,
     "end_time": "2020-11-04T09:53:02.620964",
     "exception": false,
     "start_time": "2020-11-04T09:53:02.529273",
     "status": "completed"
    },
    "tags": []
   },
   "outputs": [],
   "source": [
    "#Hyperparamter_Tuning\n",
    "n_estimators = [100, 500, 900, 1100, 1500]\n",
    "max_depth = [2, 3, 5, 10, 15]\n",
    "booster=['gbtree','gblinear']\n",
    "learning_rate=[0.05,0.1,0.15,0.20]\n",
    "min_child_weight=[1,2,3,4]\n",
    "base_score=[0.25,0.5,0.75,1]\n",
    "\n",
    "# Define the grid of hyperparameters to search\n",
    "parameter_grid = {\n",
    "    'n_estimators': n_estimators,\n",
    "    'max_depth':max_depth,\n",
    "    'learning_rate':learning_rate,\n",
    "    'min_child_weight':min_child_weight,\n",
    "    'booster':booster,\n",
    "    'base_score':base_score\n",
    "    }"
   ]
  },
  {
   "cell_type": "code",
   "execution_count": 28,
   "metadata": {
    "execution": {
     "iopub.execute_input": "2020-11-04T09:53:02.782097Z",
     "iopub.status.busy": "2020-11-04T09:53:02.781323Z",
     "iopub.status.idle": "2020-11-04T09:53:32.654023Z",
     "shell.execute_reply": "2020-11-04T09:53:32.654907Z"
    },
    "papermill": {
     "duration": 29.957391,
     "end_time": "2020-11-04T09:53:32.655101",
     "exception": false,
     "start_time": "2020-11-04T09:53:02.697710",
     "status": "completed"
    },
    "tags": []
   },
   "outputs": [
    {
     "name": "stdout",
     "output_type": "stream",
     "text": [
      "Fitting 5 folds for each of 50 candidates, totalling 250 fits\n"
     ]
    },
    {
     "name": "stderr",
     "output_type": "stream",
     "text": [
      "[Parallel(n_jobs=3)]: Using backend LokyBackend with 3 concurrent workers.\n",
      "[Parallel(n_jobs=3)]: Done  12 tasks      | elapsed:    8.8s\n",
      "[Parallel(n_jobs=3)]: Done  66 tasks      | elapsed:   15.5s\n",
      "[Parallel(n_jobs=3)]: Done 186 tasks      | elapsed:   23.9s\n",
      "[Parallel(n_jobs=3)]: Done 250 out of 250 | elapsed:   29.6s finished\n"
     ]
    },
    {
     "data": {
      "text/plain": [
       "RandomizedSearchCV(cv=5,\n",
       "                   estimator=XGBRegressor(base_score=None, booster=None,\n",
       "                                          colsample_bylevel=None,\n",
       "                                          colsample_bynode=None,\n",
       "                                          colsample_bytree=None, gamma=None,\n",
       "                                          gpu_id=None, importance_type='gain',\n",
       "                                          interaction_constraints=None,\n",
       "                                          learning_rate=None,\n",
       "                                          max_delta_step=None, max_depth=None,\n",
       "                                          min_child_weight=None, missing=nan,\n",
       "                                          monotone_constraints=None,\n",
       "                                          n_estimators=100, n...\n",
       "                                          validate_parameters=None,\n",
       "                                          verbosity=None),\n",
       "                   n_iter=50, n_jobs=3,\n",
       "                   param_distributions={'base_score': [0.25, 0.5, 0.75, 1],\n",
       "                                        'booster': ['gbtree', 'gblinear'],\n",
       "                                        'learning_rate': [0.05, 0.1, 0.15, 0.2],\n",
       "                                        'max_depth': [2, 3, 5, 10, 15],\n",
       "                                        'min_child_weight': [1, 2, 3, 4],\n",
       "                                        'n_estimators': [100, 500, 900, 1100,\n",
       "                                                         1500]},\n",
       "                   random_state=42, return_train_score=True,\n",
       "                   scoring='neg_mean_absolute_error', verbose=5)"
      ]
     },
     "execution_count": 28,
     "metadata": {},
     "output_type": "execute_result"
    }
   ],
   "source": [
    "# Set up the random search with 5-fold cross validation\n",
    "random_cv = RandomizedSearchCV(estimator=regressor,\n",
    "            param_distributions=parameter_grid,\n",
    "            cv=5, n_iter=50,\n",
    "            scoring = 'neg_mean_absolute_error',n_jobs = 3,\n",
    "            verbose = 5, \n",
    "            return_train_score = True,\n",
    "            random_state=42)\n",
    "\n",
    "#train on the RandomSearchCv object to get best estimators\n",
    "random_cv.fit(X_train,y_train)"
   ]
  },
  {
   "cell_type": "code",
   "execution_count": 29,
   "metadata": {
    "execution": {
     "iopub.execute_input": "2020-11-04T09:53:32.867233Z",
     "iopub.status.busy": "2020-11-04T09:53:32.866189Z",
     "iopub.status.idle": "2020-11-04T09:53:32.875109Z",
     "shell.execute_reply": "2020-11-04T09:53:32.874306Z"
    },
    "papermill": {
     "duration": 0.110567,
     "end_time": "2020-11-04T09:53:32.875257",
     "exception": false,
     "start_time": "2020-11-04T09:53:32.764690",
     "status": "completed"
    },
    "tags": []
   },
   "outputs": [
    {
     "data": {
      "text/plain": [
       "XGBRegressor(base_score=0.75, booster='gbtree', colsample_bylevel=1,\n",
       "             colsample_bynode=1, colsample_bytree=1, gamma=0, gpu_id=-1,\n",
       "             importance_type='gain', interaction_constraints='',\n",
       "             learning_rate=0.1, max_delta_step=0, max_depth=5,\n",
       "             min_child_weight=2, missing=nan, monotone_constraints='()',\n",
       "             n_estimators=1100, n_jobs=0, num_parallel_tree=1, random_state=0,\n",
       "             reg_alpha=0, reg_lambda=1, scale_pos_weight=1, subsample=1,\n",
       "             tree_method='exact', validate_parameters=1, verbosity=None)"
      ]
     },
     "execution_count": 29,
     "metadata": {},
     "output_type": "execute_result"
    }
   ],
   "source": [
    "#getting the best estimators\n",
    "random_cv.best_estimator_"
   ]
  },
  {
   "cell_type": "code",
   "execution_count": 30,
   "metadata": {
    "execution": {
     "iopub.execute_input": "2020-11-04T09:53:33.061951Z",
     "iopub.status.busy": "2020-11-04T09:53:33.060903Z",
     "iopub.status.idle": "2020-11-04T09:53:33.065644Z",
     "shell.execute_reply": "2020-11-04T09:53:33.065027Z"
    },
    "papermill": {
     "duration": 0.101327,
     "end_time": "2020-11-04T09:53:33.065760",
     "exception": false,
     "start_time": "2020-11-04T09:53:32.964433",
     "status": "completed"
    },
    "tags": []
   },
   "outputs": [
    {
     "data": {
      "text/plain": [
       "{'n_estimators': 1100,\n",
       " 'min_child_weight': 2,\n",
       " 'max_depth': 5,\n",
       " 'learning_rate': 0.1,\n",
       " 'booster': 'gbtree',\n",
       " 'base_score': 0.75}"
      ]
     },
     "execution_count": 30,
     "metadata": {},
     "output_type": "execute_result"
    }
   ],
   "source": [
    "#getting the best params\n",
    "random_cv.best_params_"
   ]
  },
  {
   "cell_type": "code",
   "execution_count": 31,
   "metadata": {
    "execution": {
     "iopub.execute_input": "2020-11-04T09:53:33.259613Z",
     "iopub.status.busy": "2020-11-04T09:53:33.258564Z",
     "iopub.status.idle": "2020-11-04T09:53:33.261289Z",
     "shell.execute_reply": "2020-11-04T09:53:33.261808Z"
    },
    "papermill": {
     "duration": 0.104927,
     "end_time": "2020-11-04T09:53:33.261994",
     "exception": false,
     "start_time": "2020-11-04T09:53:33.157067",
     "status": "completed"
    },
    "tags": []
   },
   "outputs": [],
   "source": [
    "# reinitializing the regressor object with the best probable estimators\n",
    "regressor=xgboost.XGBRegressor(base_score=0.75, booster='gbtree', colsample_bylevel=1,\n",
    "             colsample_bynode=1, colsample_bytree=1, gamma=0, gpu_id=-1,\n",
    "             importance_type='gain', interaction_constraints='',\n",
    "             learning_rate=0.1, max_delta_step=0, max_depth=5,\n",
    "             min_child_weight=2, missing=np.nan, monotone_constraints='()',\n",
    "             n_estimators=1100, n_jobs=0, num_parallel_tree=1, random_state=0,\n",
    "             reg_alpha=0, reg_lambda=1, scale_pos_weight=1, subsample=1,\n",
    "             tree_method='exact', validate_parameters=1, verbosity=None)"
   ]
  },
  {
   "cell_type": "code",
   "execution_count": 32,
   "metadata": {
    "execution": {
     "iopub.execute_input": "2020-11-04T09:53:33.502371Z",
     "iopub.status.busy": "2020-11-04T09:53:33.501381Z",
     "iopub.status.idle": "2020-11-04T09:53:34.278905Z",
     "shell.execute_reply": "2020-11-04T09:53:34.279893Z"
    },
    "papermill": {
     "duration": 0.930415,
     "end_time": "2020-11-04T09:53:34.280058",
     "exception": false,
     "start_time": "2020-11-04T09:53:33.349643",
     "status": "completed"
    },
    "tags": []
   },
   "outputs": [
    {
     "data": {
      "text/plain": [
       "XGBRegressor(base_score=0.75, booster='gbtree', colsample_bylevel=1,\n",
       "             colsample_bynode=1, colsample_bytree=1, gamma=0, gpu_id=-1,\n",
       "             importance_type='gain', interaction_constraints='',\n",
       "             learning_rate=0.1, max_delta_step=0, max_depth=5,\n",
       "             min_child_weight=2, missing=nan, monotone_constraints='()',\n",
       "             n_estimators=1100, n_jobs=0, num_parallel_tree=1, random_state=0,\n",
       "             reg_alpha=0, reg_lambda=1, scale_pos_weight=1, subsample=1,\n",
       "             tree_method='exact', validate_parameters=1, verbosity=None)"
      ]
     },
     "execution_count": 32,
     "metadata": {},
     "output_type": "execute_result"
    }
   ],
   "source": [
    "# fitting the xgbRegressor on our training data\n",
    "regressor.fit(X_train,y_train)"
   ]
  },
  {
   "cell_type": "markdown",
   "metadata": {
    "papermill": {
     "duration": 0.097346,
     "end_time": "2020-11-04T09:53:34.479080",
     "exception": false,
     "start_time": "2020-11-04T09:53:34.381734",
     "status": "completed"
    },
    "tags": []
   },
   "source": [
    "### XGBRegressor() Model Evaluation and Predictions"
   ]
  },
  {
   "cell_type": "code",
   "execution_count": 33,
   "metadata": {
    "execution": {
     "iopub.execute_input": "2020-11-04T09:53:34.653011Z",
     "iopub.status.busy": "2020-11-04T09:53:34.652126Z",
     "iopub.status.idle": "2020-11-04T09:53:34.659040Z",
     "shell.execute_reply": "2020-11-04T09:53:34.658415Z"
    },
    "papermill": {
     "duration": 0.09677,
     "end_time": "2020-11-04T09:53:34.659170",
     "exception": false,
     "start_time": "2020-11-04T09:53:34.562400",
     "status": "completed"
    },
    "tags": []
   },
   "outputs": [],
   "source": [
    "# fetching the predictions on our test data\n",
    "predictions2=regressor.predict(X_test)"
   ]
  },
  {
   "cell_type": "code",
   "execution_count": 34,
   "metadata": {
    "execution": {
     "iopub.execute_input": "2020-11-04T09:53:34.886434Z",
     "iopub.status.busy": "2020-11-04T09:53:34.884758Z",
     "iopub.status.idle": "2020-11-04T09:53:35.060598Z",
     "shell.execute_reply": "2020-11-04T09:53:35.061153Z"
    },
    "papermill": {
     "duration": 0.297306,
     "end_time": "2020-11-04T09:53:35.061315",
     "exception": false,
     "start_time": "2020-11-04T09:53:34.764009",
     "status": "completed"
    },
    "tags": []
   },
   "outputs": [
    {
     "data": {
      "text/plain": [
       "<matplotlib.collections.PathCollection at 0x7ff254108990>"
      ]
     },
     "execution_count": 34,
     "metadata": {},
     "output_type": "execute_result"
    },
    {
     "data": {
      "image/png": "[encoded data removed]",
      "text/plain": [
       "<Figure size 432x288 with 1 Axes>"
      ]
     },
     "metadata": {
      "needs_background": "light"
     },
     "output_type": "display_data"
    }
   ],
   "source": [
    "fig = plt.figure()\n",
    "# Plot-label\n",
    "fig.suptitle('y_test vs predictions(XGBRegressor)')\n",
    "\n",
    "#X-label\n",
    "plt.xlabel('y_test')\n",
    "\n",
    "# Y-label\n",
    "plt.ylabel('predcitions2')\n",
    "plt.scatter(y_test,predictions2)"
   ]
  },
  {
   "cell_type": "code",
   "execution_count": 35,
   "metadata": {
    "execution": {
     "iopub.execute_input": "2020-11-04T09:53:35.249278Z",
     "iopub.status.busy": "2020-11-04T09:53:35.245251Z",
     "iopub.status.idle": "2020-11-04T09:53:35.510622Z",
     "shell.execute_reply": "2020-11-04T09:53:35.509684Z"
    },
    "papermill": {
     "duration": 0.363252,
     "end_time": "2020-11-04T09:53:35.510749",
     "exception": false,
     "start_time": "2020-11-04T09:53:35.147497",
     "status": "completed"
    },
    "tags": []
   },
   "outputs": [
    {
     "data": {
      "text/plain": [
       "Text(0.5, 0.98, 'Residual Analysis')"
      ]
     },
     "execution_count": 35,
     "metadata": {},
     "output_type": "execute_result"
    },
    {
     "data": {
      "image/png": "[encoded data removed]",
      "text/plain": [
       "<Figure size 576x576 with 1 Axes>"
      ]
     },
     "metadata": {
      "needs_background": "light"
     },
     "output_type": "display_data"
    }
   ],
   "source": [
    "fig=plt.figure(figsize=(8,8))\n",
    "  \n",
    "sns.distplot((y_test-predictions2),bins=20)\n",
    "\n",
    "#Plot Label\n",
    "fig.suptitle('Residual Analysis', fontsize = 20)           "
   ]
  },
  {
   "cell_type": "code",
   "execution_count": 36,
   "metadata": {
    "execution": {
     "iopub.execute_input": "2020-11-04T09:53:35.692832Z",
     "iopub.status.busy": "2020-11-04T09:53:35.691734Z",
     "iopub.status.idle": "2020-11-04T09:53:35.714451Z",
     "shell.execute_reply": "2020-11-04T09:53:35.713617Z"
    },
    "papermill": {
     "duration": 0.116682,
     "end_time": "2020-11-04T09:53:35.714582",
     "exception": false,
     "start_time": "2020-11-04T09:53:35.597900",
     "status": "completed"
    },
    "tags": []
   },
   "outputs": [
    {
     "name": "stdout",
     "output_type": "stream",
     "text": [
      "MAE: 0.17598713361250642\n",
      "MSE: 0.15196768178182693\n",
      "RMSE: 0.38983032434871834\n"
     ]
    }
   ],
   "source": [
    "print('MAE:', metrics.mean_absolute_error(y_test, predictions2))\n",
    "print('MSE:', metrics.mean_squared_error(y_test, predictions2))\n",
    "print('RMSE:', np.sqrt(metrics.mean_squared_error(y_test, predictions2)))"
   ]
  },
  {
   "cell_type": "code",
   "execution_count": 37,
   "metadata": {
    "execution": {
     "iopub.execute_input": "2020-11-04T09:53:35.905509Z",
     "iopub.status.busy": "2020-11-04T09:53:35.904341Z",
     "iopub.status.idle": "2020-11-04T09:53:35.909335Z",
     "shell.execute_reply": "2020-11-04T09:53:35.908734Z"
    },
    "papermill": {
     "duration": 0.103118,
     "end_time": "2020-11-04T09:53:35.909447",
     "exception": false,
     "start_time": "2020-11-04T09:53:35.806329",
     "status": "completed"
    },
    "tags": []
   },
   "outputs": [
    {
     "data": {
      "text/plain": [
       "0.8508879945071365"
      ]
     },
     "execution_count": 37,
     "metadata": {},
     "output_type": "execute_result"
    }
   ],
   "source": [
    "R2 = metrics.r2_score(y_test,predictions2)\n",
    "R2"
   ]
  },
  {
   "cell_type": "markdown",
   "metadata": {
    "papermill": {
     "duration": 0.089246,
     "end_time": "2020-11-04T09:53:36.089841",
     "exception": false,
     "start_time": "2020-11-04T09:53:36.000595",
     "status": "completed"
    },
    "tags": []
   },
   "source": [
    "## 6. Conclusions\n",
    "\n",
    "* Present price of a car directly influences Selling Price prediction. Both are highly correlated and here directly proportional to each other.\n",
    "* Resale value of Automatic vehicle is more than that of a Manual vehicle.\n",
    "* Car age is effecting negatively as the Selling Price decreases for an older car.\n",
    "* Resale value of cars with Fuel type Diesel is higher.\n",
    "\n",
    "### XGBRegressor performs considerably better than Linear Regression with a R2 score of 0.85 compared to .8316."
   ]
  },
  {
   "cell_type": "markdown",
   "metadata": {
    "papermill": {
     "duration": 0.092876,
     "end_time": "2020-11-04T09:53:36.271952",
     "exception": false,
     "start_time": "2020-11-04T09:53:36.179076",
     "status": "completed"
    },
    "tags": []
   },
   "source": [
    "# Thank You\n",
    "\n",
    "* This is my first Kaggle Notebook. Please do point out any irregularities if found ! \n",
    "* Don't forget to leave your valuable feedback in the comments below.Thank You!"
   ]
  }
 ],
 "metadata": {
  "kernelspec": {
   "display_name": "Python 3",
   "language": "python",
   "name": "python3"
  },
  "language_info": {
   "codemirror_mode": {
    "name": "ipython",
    "version": 3
   },
   "file_extension": ".py",
   "mimetype": "text/x-python",
   "name": "python",
   "nbconvert_exporter": "python",
   "pygments_lexer": "ipython3",
   "version": "3.7.6"
  },
  "papermill": {
   "duration": 82.844852,
   "end_time": "2020-11-04T09:53:37.447100",
   "environment_variables": {},
   "exception": null,
   "input_path": "__notebook__.ipynb",
   "output_path": "__notebook__.ipynb",
   "parameters": {},
   "start_time": "2020-11-04T09:52:14.602248",
   "version": "2.1.0"
  }
 },
 "nbformat": 4,
 "nbformat_minor": 4
}
