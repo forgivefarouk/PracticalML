{
 "cells": [
  {
   "cell_type": "code",
   "execution_count": 277,
   "id": "9261fda7-5852-4366-a727-fc24d80b9941",
   "metadata": {},
   "outputs": [],
   "source": [
    "import requests\n",
    "import json\n",
    "from bs4 import BeautifulSoup\n",
    "import pandas as pd"
   ]
  },
  {
   "cell_type": "code",
   "execution_count": 278,
   "id": "a4add7f0-3717-4406-85da-def28c5e5d5c",
   "metadata": {},
   "outputs": [],
   "source": [
    "base_url=\"https://editorial.rottentomatoes.com/guide/140-essential-action-movies-to-watch-now/\""
   ]
  },
  {
   "cell_type": "code",
   "execution_count": 279,
   "id": "fd75a47a-d9a3-4b0a-9f09-79299a38cfdc",
   "metadata": {},
   "outputs": [],
   "source": [
    "res = requests.get(base_url)\n",
    "html=res.content"
   ]
  },
  {
   "cell_type": "code",
   "execution_count": 280,
   "id": "a15d2995-03e6-4782-bfe3-1d40b0f63fdf",
   "metadata": {},
   "outputs": [],
   "source": [
    "soup=BeautifulSoup(html,\"html.parser\")"
   ]
  },
  {
   "cell_type": "code",
   "execution_count": 281,
   "id": "25e80d64-b0f3-4a78-83c0-932fd44d9284",
   "metadata": {},
   "outputs": [
    {
     "data": {
      "text/plain": [
       "<div class=\"article_movie_title\" style=\"float: left;\">\n",
       "<div><h2><a href=\"https://www.rottentomatoes.com/m/1018009-running_scared\">Running Scared</a> <span class=\"subtle start-year\">(1986)</span> <span class=\"icon tiny rotten\" title=\"Rotten\"></span> <span class=\"tMeterScore\">59%</span><span class=\"span-icon-audience\"><img class=\"icon-audience\" height=\"16\" src=\"https://images.fandango.com/cms/assets/cf921970-d359-11ea-a15f-bdf29fa24277--spilled.png\" width=\"16\"/></span><span class=\"tMeterScore\">58%</span></h2></div>\n",
       "</div>"
      ]
     },
     "execution_count": 281,
     "metadata": {},
     "output_type": "execute_result"
    }
   ],
   "source": [
    "divs =soup.find_all('div',{'class':\"article_movie_title\"})\n",
    "divs[0]"
   ]
  },
  {
   "cell_type": "code",
   "execution_count": 282,
   "id": "779bcb17-af12-4e21-aedc-865498e6ece7",
   "metadata": {},
   "outputs": [
    {
     "data": {
      "text/plain": [
       "'Running Scared'"
      ]
     },
     "execution_count": 282,
     "metadata": {},
     "output_type": "execute_result"
    }
   ],
   "source": [
    "divs[0].find('div').find('a').text"
   ]
  },
  {
   "cell_type": "code",
   "execution_count": 283,
   "id": "8e0bbfdd-aa26-4794-96dd-c2f4d5ae70b8",
   "metadata": {},
   "outputs": [
    {
     "data": {
      "text/plain": [
       "['Running Scared', 'Equilibrium', 'Hero', 'Road House', 'Unstoppable']"
      ]
     },
     "execution_count": 283,
     "metadata": {},
     "output_type": "execute_result"
    }
   ],
   "source": [
    "film_names = [l.find('div').find('a').text for l in divs]\n",
    "film_names[:5]"
   ]
  },
  {
   "cell_type": "code",
   "execution_count": 284,
   "id": "8d48afd8-acdc-4420-97cf-7e2cefcb0769",
   "metadata": {},
   "outputs": [
    {
     "data": {
      "text/plain": [
       "[1986, 2002, 2002, 1989, 2010]"
      ]
     },
     "execution_count": 284,
     "metadata": {},
     "output_type": "execute_result"
    }
   ],
   "source": [
    "year=[l.find('span' ,{'class':\"subtle start-year\"}).text for l in divs]\n",
    "year_mod=[]\n",
    "for i in range(len(year)):\n",
    "    year_mod.append((int(year[i][1:-1])))\n",
    "    \n",
    "year_mod[:5]"
   ]
  },
  {
   "cell_type": "code",
   "execution_count": 285,
   "id": "78645b00-2c52-4603-90e9-dfacc8173924",
   "metadata": {},
   "outputs": [
    {
     "data": {
      "text/plain": [
       "['59%', '40%', '94%', '39%', '87%']"
      ]
     },
     "execution_count": 285,
     "metadata": {},
     "output_type": "execute_result"
    }
   ],
   "source": [
    "scores=[l.find('span' ,{\"class\":\"tMeterScore\"}).text for l in divs]\n",
    "scores[:5]"
   ]
  },
  {
   "cell_type": "code",
   "execution_count": 286,
   "id": "0b489104-e4c8-4870-8c66-e3b22426736d",
   "metadata": {},
   "outputs": [
    {
     "data": {
      "text/plain": [
       "<div class=\"info cast\">\n",
       "<span class=\"descriptor\">Starring:</span> <a class=\"\" href=\"//www.rottentomatoes.com/celebrity/gregory_hines\">Gregory Hines</a>, <a class=\"\" href=\"//www.rottentomatoes.com/celebrity/billy_crystal\">Billy Crystal</a>, <a class=\"\" href=\"//www.rottentomatoes.com/celebrity/jimmy_smits\">Jimmy Smits</a>, <a class=\"\" href=\"//www.rottentomatoes.com/celebrity/steven_bauer\">Steven Bauer</a></div>"
      ]
     },
     "execution_count": 286,
     "metadata": {},
     "output_type": "execute_result"
    }
   ],
   "source": [
    "divs2 =soup.find_all('div',{'class':\"info cast\"})\n",
    "divs2[0]"
   ]
  },
  {
   "cell_type": "code",
   "execution_count": 287,
   "id": "5f2252ae-ede3-4ac1-9b4e-3314744b5b23",
   "metadata": {},
   "outputs": [],
   "source": [
    "cast_name_and_links = [l.find_all('a') for l in divs2]"
   ]
  },
  {
   "cell_type": "code",
   "execution_count": 288,
   "id": "705ffa42-6eb1-4c5f-aff2-d08358500c68",
   "metadata": {},
   "outputs": [
    {
     "data": {
      "text/plain": [
       "[<a class=\"\" href=\"//www.rottentomatoes.com/celebrity/gregory_hines\">Gregory Hines</a>,\n",
       " <a class=\"\" href=\"//www.rottentomatoes.com/celebrity/billy_crystal\">Billy Crystal</a>,\n",
       " <a class=\"\" href=\"//www.rottentomatoes.com/celebrity/jimmy_smits\">Jimmy Smits</a>,\n",
       " <a class=\"\" href=\"//www.rottentomatoes.com/celebrity/steven_bauer\">Steven Bauer</a>]"
      ]
     },
     "execution_count": 288,
     "metadata": {},
     "output_type": "execute_result"
    }
   ],
   "source": [
    "cast_name_and_links[0]"
   ]
  },
  {
   "cell_type": "code",
   "execution_count": 289,
   "id": "37f97a86-7b10-434f-a9e5-979e8fa55413",
   "metadata": {},
   "outputs": [],
   "source": [
    "cast =[]\n",
    "fake =[]\n",
    "for i in cast_name_and_links:\n",
    "    for j in i:\n",
    "        \n",
    "        fake.append(j.text)\n",
    "    \n",
    "    cast.append(list(fake))\n",
    "    fake.clear()\n",
    "        "
   ]
  },
  {
   "cell_type": "code",
   "execution_count": 290,
   "id": "69e5c45b-7bd3-4cbf-a0df-c8e45a2ed48b",
   "metadata": {},
   "outputs": [
    {
     "data": {
      "text/plain": [
       "['Gregory Hines, Billy Crystal, Jimmy Smits, Steven Bauer',\n",
       " 'Christian Bale, Emily Watson, Taye Diggs, Angus Macfadyen',\n",
       " 'Jet Li, Tony Leung Chiu Wai, Maggie Cheung Man-yuk, Donnie Yen',\n",
       " 'Patrick Swayze, Kelly Lynch, Sam Elliott, Ben Gazzara',\n",
       " 'Denzel Washington, Chris Pine, Rosario Dawson, Kevin Dunn']"
      ]
     },
     "execution_count": 290,
     "metadata": {},
     "output_type": "execute_result"
    }
   ],
   "source": [
    "cast_name=[\", \".join(name) for name in cast]\n",
    "cast_name[:5]"
   ]
  },
  {
   "cell_type": "code",
   "execution_count": 291,
   "id": "486ff57a-8255-4e09-8933-d308cbb25b7f",
   "metadata": {},
   "outputs": [],
   "source": [
    "cor = soup.find_all('div',{'class':\"info critics-consensus\"})"
   ]
  },
  {
   "cell_type": "code",
   "execution_count": 292,
   "id": "6a5d9b1f-7c1a-4f39-89cc-39221dc7be4f",
   "metadata": {},
   "outputs": [],
   "source": [
    "cors = [i.text for i in cor]"
   ]
  },
  {
   "cell_type": "code",
   "execution_count": 293,
   "id": "0c440079-8495-44f8-9362-b6be9db0043c",
   "metadata": {},
   "outputs": [],
   "source": [
    "p ='Critics Consensus: '\n",
    "l =len(p)\n",
    "x=[i[l:]for i in cors]"
   ]
  },
  {
   "cell_type": "code",
   "execution_count": 298,
   "id": "77d6d0cf-7c04-4de4-81c9-9ec1c468d470",
   "metadata": {},
   "outputs": [
    {
     "data": {
      "text/plain": [
       "['\\nDirected By: Peter Hyams',\n",
       " '\\nDirected By: Kurt Wimmer',\n",
       " '\\nDirected By: Zhang Yimou',\n",
       " '\\nDirected By: Rowdy Herrington',\n",
       " '\\nDirected By: Tony Scott']"
      ]
     },
     "execution_count": 298,
     "metadata": {},
     "output_type": "execute_result"
    }
   ],
   "source": [
    "director = [div.text for div in soup.find_all('div',{\"class\":\"info director\"})]\n",
    "director[0:5]"
   ]
  },
  {
   "cell_type": "code",
   "execution_count": 300,
   "id": "80be3a74-7082-401c-9438-3130ef0e6dae",
   "metadata": {},
   "outputs": [
    {
     "data": {
      "text/plain": [
       "['Peter Hyams', 'Kurt Wimmer', 'Zhang Yimou', 'Rowdy Herrington', 'Tony Scott']"
      ]
     },
     "execution_count": 300,
     "metadata": {},
     "output_type": "execute_result"
    }
   ],
   "source": [
    "txt=\"\\nDirected By: \"\n",
    "o=len(txt)\n",
    "dir_mod = [d[o:] for d in director]\n",
    "dir_mod[:5]"
   ]
  },
  {
   "cell_type": "code",
   "execution_count": 301,
   "id": "bc0a808b-34ef-4563-afed-577299c9b3da",
   "metadata": {},
   "outputs": [],
   "source": [
    "movie= pd.DataFrame()\n",
    "\n",
    "movie['movie_name']=film_names\n",
    "movie['year']=year_mod\n",
    "movie['rate']=scores\n",
    "movie['cast']=cast_name\n",
    "movie['director']=dir_mod"
   ]
  },
  {
   "cell_type": "code",
   "execution_count": 308,
   "id": "489c7269-9962-4ad7-abbe-2e5ed3e0e7e4",
   "metadata": {},
   "outputs": [
    {
     "name": "stderr",
     "output_type": "stream",
     "text": [
      "/tmp/ipykernel_151/1746786568.py:1: FutureWarning: Passing a negative integer is deprecated in version 1.0 and will not be supported in future version. Instead, use None to not limit the column width.\n",
      "  pd.set_option('display.max_colwidth',-1)\n"
     ]
    }
   ],
   "source": [
    "pd.set_option('display.max_colwidth',-1)"
   ]
  },
  {
   "cell_type": "code",
   "execution_count": 309,
   "id": "7abca261-edf0-420a-b726-6fad794bc873",
   "metadata": {},
   "outputs": [
    {
     "data": {
      "text/html": [
       "<div>\n",
       "<style scoped>\n",
       "    .dataframe tbody tr th:only-of-type {\n",
       "        vertical-align: middle;\n",
       "    }\n",
       "\n",
       "    .dataframe tbody tr th {\n",
       "        vertical-align: top;\n",
       "    }\n",
       "\n",
       "    .dataframe thead th {\n",
       "        text-align: right;\n",
       "    }\n",
       "</style>\n",
       "<table border=\"1\" class=\"dataframe\">\n",
       "  <thead>\n",
       "    <tr style=\"text-align: right;\">\n",
       "      <th></th>\n",
       "      <th>movie_name</th>\n",
       "      <th>year</th>\n",
       "      <th>rate</th>\n",
       "      <th>cast</th>\n",
       "      <th>director</th>\n",
       "    </tr>\n",
       "  </thead>\n",
       "  <tbody>\n",
       "    <tr>\n",
       "      <th>0</th>\n",
       "      <td>Running Scared</td>\n",
       "      <td>1986</td>\n",
       "      <td>59%</td>\n",
       "      <td>Gregory Hines, Billy Crystal, Jimmy Smits, Steven Bauer</td>\n",
       "      <td>Peter Hyams</td>\n",
       "    </tr>\n",
       "    <tr>\n",
       "      <th>1</th>\n",
       "      <td>Equilibrium</td>\n",
       "      <td>2002</td>\n",
       "      <td>40%</td>\n",
       "      <td>Christian Bale, Emily Watson, Taye Diggs, Angus Macfadyen</td>\n",
       "      <td>Kurt Wimmer</td>\n",
       "    </tr>\n",
       "    <tr>\n",
       "      <th>2</th>\n",
       "      <td>Hero</td>\n",
       "      <td>2002</td>\n",
       "      <td>94%</td>\n",
       "      <td>Jet Li, Tony Leung Chiu Wai, Maggie Cheung Man-yuk, Donnie Yen</td>\n",
       "      <td>Zhang Yimou</td>\n",
       "    </tr>\n",
       "    <tr>\n",
       "      <th>3</th>\n",
       "      <td>Road House</td>\n",
       "      <td>1989</td>\n",
       "      <td>39%</td>\n",
       "      <td>Patrick Swayze, Kelly Lynch, Sam Elliott, Ben Gazzara</td>\n",
       "      <td>Rowdy Herrington</td>\n",
       "    </tr>\n",
       "    <tr>\n",
       "      <th>4</th>\n",
       "      <td>Unstoppable</td>\n",
       "      <td>2010</td>\n",
       "      <td>87%</td>\n",
       "      <td>Denzel Washington, Chris Pine, Rosario Dawson, Kevin Dunn</td>\n",
       "      <td>Tony Scott</td>\n",
       "    </tr>\n",
       "  </tbody>\n",
       "</table>\n",
       "</div>"
      ],
      "text/plain": [
       "       movie_name  year rate  \\\n",
       "0  Running Scared  1986  59%   \n",
       "1  Equilibrium     2002  40%   \n",
       "2  Hero            2002  94%   \n",
       "3  Road House      1989  39%   \n",
       "4  Unstoppable     2010  87%   \n",
       "\n",
       "                                                             cast  \\\n",
       "0  Gregory Hines, Billy Crystal, Jimmy Smits, Steven Bauer          \n",
       "1  Christian Bale, Emily Watson, Taye Diggs, Angus Macfadyen        \n",
       "2  Jet Li, Tony Leung Chiu Wai, Maggie Cheung Man-yuk, Donnie Yen   \n",
       "3  Patrick Swayze, Kelly Lynch, Sam Elliott, Ben Gazzara            \n",
       "4  Denzel Washington, Chris Pine, Rosario Dawson, Kevin Dunn        \n",
       "\n",
       "           director  \n",
       "0  Peter Hyams       \n",
       "1  Kurt Wimmer       \n",
       "2  Zhang Yimou       \n",
       "3  Rowdy Herrington  \n",
       "4  Tony Scott        "
      ]
     },
     "execution_count": 309,
     "metadata": {},
     "output_type": "execute_result"
    }
   ],
   "source": [
    "movie.head()"
   ]
  },
  {
   "cell_type": "code",
   "execution_count": 310,
   "id": "84085839-963c-4123-af5d-8d2c11382727",
   "metadata": {},
   "outputs": [],
   "source": [
    "movie.to_csv('Rotten_tomatoes_movies.csv',index=False,header=True)"
   ]
  },
  {
   "cell_type": "code",
   "execution_count": null,
   "id": "fd963723-c451-45c3-86eb-ad82359833c8",
   "metadata": {},
   "outputs": [],
   "source": []
  },
  {
   "cell_type": "code",
   "execution_count": null,
   "id": "34b130dd-1b95-4ca1-8ac5-e4a5f971fdbf",
   "metadata": {},
   "outputs": [],
   "source": []
  }
 ],
 "metadata": {
  "kernelspec": {
   "display_name": "Python 3 (ipykernel)",
   "language": "python",
   "name": "python3"
  },
  "language_info": {
   "codemirror_mode": {
    "name": "ipython",
    "version": 3
   },
   "file_extension": ".py",
   "mimetype": "text/x-python",
   "name": "python",
   "nbconvert_exporter": "python",
   "pygments_lexer": "ipython3",
   "version": "3.9.13"
  },
  "widgets": {
   "application/vnd.jupyter.widget-state+json": {
    "state": {},
    "version_major": 2,
    "version_minor": 0
   }
  }
 },
 "nbformat": 4,
 "nbformat_minor": 5
}
